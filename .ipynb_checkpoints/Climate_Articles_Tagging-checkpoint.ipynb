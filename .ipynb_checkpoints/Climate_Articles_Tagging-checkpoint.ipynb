{
 "cells": [
  {
   "cell_type": "markdown",
   "id": "28a5c87c",
   "metadata": {},
   "source": [
    "# 0. Packages and Functions"
   ]
  },
  {
   "cell_type": "markdown",
   "id": "730da622",
   "metadata": {},
   "source": [
    "## 0.1. Packages"
   ]
  },
  {
   "cell_type": "code",
   "execution_count": 1,
   "id": "8d0bc9a8",
   "metadata": {},
   "outputs": [],
   "source": [
    "import pandas as pd"
   ]
  },
  {
   "cell_type": "markdown",
   "id": "0e52a0ca",
   "metadata": {},
   "source": [
    "## 0.2. Function"
   ]
  },
  {
   "cell_type": "code",
   "execution_count": 64,
   "id": "ee2be2db",
   "metadata": {},
   "outputs": [],
   "source": [
    "#Create function to apply when using a lexicon\n"
   ]
  },
  {
   "cell_type": "markdown",
   "id": "867b5dd4",
   "metadata": {},
   "source": [
    "# 1. Import Label Dataset"
   ]
  },
  {
   "cell_type": "code",
   "execution_count": 60,
   "id": "f7293ed6",
   "metadata": {},
   "outputs": [
    {
     "data": {
      "text/html": [
       "<div>\n",
       "<style scoped>\n",
       "    .dataframe tbody tr th:only-of-type {\n",
       "        vertical-align: middle;\n",
       "    }\n",
       "\n",
       "    .dataframe tbody tr th {\n",
       "        vertical-align: top;\n",
       "    }\n",
       "\n",
       "    .dataframe thead th {\n",
       "        text-align: right;\n",
       "    }\n",
       "</style>\n",
       "<table border=\"1\" class=\"dataframe\">\n",
       "  <thead>\n",
       "    <tr style=\"text-align: right;\">\n",
       "      <th></th>\n",
       "      <th>Text</th>\n",
       "      <th>Link</th>\n",
       "      <th>Is_climate</th>\n",
       "      <th>Sentiment_Label</th>\n",
       "      <th>Climate_Change_Topic</th>\n",
       "      <th>Level_Climate_Change_Topic</th>\n",
       "      <th>doubt</th>\n",
       "      <th>Sentiment_Label_R</th>\n",
       "      <th>Climate_Change_Topic_R</th>\n",
       "      <th>Level_Climate_Change_Topic_R</th>\n",
       "    </tr>\n",
       "  </thead>\n",
       "  <tbody>\n",
       "    <tr>\n",
       "      <th>0</th>\n",
       "      <td>More than a dozen state attorneys general gath...</td>\n",
       "      <td>https://www.washingtonpost.com/news/energy-env...</td>\n",
       "      <td>True</td>\n",
       "      <td>1</td>\n",
       "      <td>Yes</td>\n",
       "      <td>Medium</td>\n",
       "      <td>False</td>\n",
       "      <td>TBD</td>\n",
       "      <td>TBD</td>\n",
       "      <td>TBD</td>\n",
       "    </tr>\n",
       "    <tr>\n",
       "      <th>1</th>\n",
       "      <td>Sen. Jeff Merkley of Oregon endorsed Bernie S...</td>\n",
       "      <td>http://www.wsj.com/articles/campaign-wire-1460...</td>\n",
       "      <td>True</td>\n",
       "      <td>0</td>\n",
       "      <td>Yes</td>\n",
       "      <td>Small</td>\n",
       "      <td>False</td>\n",
       "      <td>TBD</td>\n",
       "      <td>TBD</td>\n",
       "      <td>TBD</td>\n",
       "    </tr>\n",
       "    <tr>\n",
       "      <th>2</th>\n",
       "      <td>When Carmen Luna moved to a neighborhood on t...</td>\n",
       "      <td>https://www.wsj.com/articles/mexico-city-strug...</td>\n",
       "      <td>True</td>\n",
       "      <td>-1</td>\n",
       "      <td>Yes</td>\n",
       "      <td>Medium</td>\n",
       "      <td>False</td>\n",
       "      <td>TBD</td>\n",
       "      <td>TBD</td>\n",
       "      <td>TBD</td>\n",
       "    </tr>\n",
       "    <tr>\n",
       "      <th>3</th>\n",
       "      <td>As ocean warming continues to trigger widespre...</td>\n",
       "      <td>https://www.washingtonpost.com/national/health...</td>\n",
       "      <td>True</td>\n",
       "      <td>1</td>\n",
       "      <td>Yes</td>\n",
       "      <td>High</td>\n",
       "      <td>False</td>\n",
       "      <td>TBD</td>\n",
       "      <td>TBD</td>\n",
       "      <td>TBD</td>\n",
       "    </tr>\n",
       "    <tr>\n",
       "      <th>4</th>\n",
       "      <td>PG&amp;E Corp. told California regulators that it...</td>\n",
       "      <td>https://www.wsj.com/articles/pg-e-equipment-mi...</td>\n",
       "      <td>True</td>\n",
       "      <td>-1</td>\n",
       "      <td>Yes</td>\n",
       "      <td>Medium</td>\n",
       "      <td>False</td>\n",
       "      <td>TBD</td>\n",
       "      <td>TBD</td>\n",
       "      <td>TBD</td>\n",
       "    </tr>\n",
       "  </tbody>\n",
       "</table>\n",
       "</div>"
      ],
      "text/plain": [
       "                                                Text  \\\n",
       "0  More than a dozen state attorneys general gath...   \n",
       "1   Sen. Jeff Merkley of Oregon endorsed Bernie S...   \n",
       "2   When Carmen Luna moved to a neighborhood on t...   \n",
       "3  As ocean warming continues to trigger widespre...   \n",
       "4   PG&E Corp. told California regulators that it...   \n",
       "\n",
       "                                                Link  Is_climate  \\\n",
       "0  https://www.washingtonpost.com/news/energy-env...        True   \n",
       "1  http://www.wsj.com/articles/campaign-wire-1460...        True   \n",
       "2  https://www.wsj.com/articles/mexico-city-strug...        True   \n",
       "3  https://www.washingtonpost.com/national/health...        True   \n",
       "4  https://www.wsj.com/articles/pg-e-equipment-mi...        True   \n",
       "\n",
       "  Sentiment_Label Climate_Change_Topic Level_Climate_Change_Topic  doubt  \\\n",
       "0               1                  Yes                     Medium  False   \n",
       "1               0                  Yes                      Small  False   \n",
       "2              -1                  Yes                     Medium  False   \n",
       "3               1                  Yes                       High  False   \n",
       "4              -1                  Yes                     Medium  False   \n",
       "\n",
       "  Sentiment_Label_R Climate_Change_Topic_R Level_Climate_Change_Topic_R  \n",
       "0               TBD                    TBD                          TBD  \n",
       "1               TBD                    TBD                          TBD  \n",
       "2               TBD                    TBD                          TBD  \n",
       "3               TBD                    TBD                          TBD  \n",
       "4               TBD                    TBD                          TBD  "
      ]
     },
     "execution_count": 60,
     "metadata": {},
     "output_type": "execute_result"
    }
   ],
   "source": [
    "tag_climate_df = pd.read_parquet(\"Final_Label_Table.parquet\")\n",
    "tag_climate_df.head(5)"
   ]
  },
  {
   "cell_type": "code",
   "execution_count": 61,
   "id": "dea06245",
   "metadata": {},
   "outputs": [],
   "source": [
    "#Only keep the required columns\n",
    "tag_climate_df = tag_climate_df[[\"Text\", \"Climate_Change_Topic\", \"Level_Climate_Change_Topic\"]]"
   ]
  },
  {
   "cell_type": "code",
   "execution_count": 62,
   "id": "ebd9fa37",
   "metadata": {},
   "outputs": [],
   "source": [
    "#Clean the tabel\n",
    "tag_climate_df['Level_Climate_Change_Topic'] = tag_climate_df['Level_Climate_Change_Topic'].str.strip()\n",
    "tag_climate_df[tag_climate_df[\"Level_Climate_Change_Topic\"] == \"NA\"] = \"Na\"\n",
    "tag_climate_df[tag_climate_df[\"Level_Climate_Change_Topic\"] == \"0\"] = \"Na\""
   ]
  },
  {
   "cell_type": "code",
   "execution_count": 65,
   "id": "25c3dca7",
   "metadata": {},
   "outputs": [],
   "source": [
    "overview_labels = tag_climate_df.groupby(\"Level_Climate_Change_Topic\")[\"Text\"].count().reset_index()"
   ]
  },
  {
   "cell_type": "code",
   "execution_count": 66,
   "id": "accd355c",
   "metadata": {},
   "outputs": [
    {
     "data": {
      "text/html": [
       "<div>\n",
       "<style scoped>\n",
       "    .dataframe tbody tr th:only-of-type {\n",
       "        vertical-align: middle;\n",
       "    }\n",
       "\n",
       "    .dataframe tbody tr th {\n",
       "        vertical-align: top;\n",
       "    }\n",
       "\n",
       "    .dataframe thead th {\n",
       "        text-align: right;\n",
       "    }\n",
       "</style>\n",
       "<table border=\"1\" class=\"dataframe\">\n",
       "  <thead>\n",
       "    <tr style=\"text-align: right;\">\n",
       "      <th></th>\n",
       "      <th>Level_Climate_Change_Topic</th>\n",
       "      <th>Text</th>\n",
       "    </tr>\n",
       "  </thead>\n",
       "  <tbody>\n",
       "    <tr>\n",
       "      <th>0</th>\n",
       "      <td>High</td>\n",
       "      <td>71</td>\n",
       "    </tr>\n",
       "    <tr>\n",
       "      <th>1</th>\n",
       "      <td>Medium</td>\n",
       "      <td>32</td>\n",
       "    </tr>\n",
       "    <tr>\n",
       "      <th>2</th>\n",
       "      <td>Na</td>\n",
       "      <td>43</td>\n",
       "    </tr>\n",
       "    <tr>\n",
       "      <th>3</th>\n",
       "      <td>Small</td>\n",
       "      <td>55</td>\n",
       "    </tr>\n",
       "  </tbody>\n",
       "</table>\n",
       "</div>"
      ],
      "text/plain": [
       "  Level_Climate_Change_Topic  Text\n",
       "0                       High    71\n",
       "1                     Medium    32\n",
       "2                         Na    43\n",
       "3                      Small    55"
      ]
     },
     "execution_count": 66,
     "metadata": {},
     "output_type": "execute_result"
    }
   ],
   "source": [
    "overview_labels"
   ]
  },
  {
   "cell_type": "code",
   "execution_count": 67,
   "id": "e06f58a1",
   "metadata": {},
   "outputs": [],
   "source": [
    "#overview_labels.to_csv(\"C:/Users/Boedt/OneDrive/Bureaublad/R Thesis/overview_tag_labels\", index = False)"
   ]
  },
  {
   "cell_type": "markdown",
   "id": "1b603383",
   "metadata": {},
   "source": [
    "# 2. Taggers"
   ]
  },
  {
   "cell_type": "markdown",
   "id": "b14aaf75",
   "metadata": {},
   "source": [
    "## 2.1. Tagger 1"
   ]
  },
  {
   "cell_type": "markdown",
   "id": "1ff0bd0d",
   "metadata": {},
   "source": [
    "Uitleg"
   ]
  },
  {
   "cell_type": "code",
   "execution_count": 9,
   "id": "35768c43",
   "metadata": {},
   "outputs": [],
   "source": [
    "tag1_naam = tag_climate_df"
   ]
  },
  {
   "cell_type": "code",
   "execution_count": null,
   "id": "f564b431",
   "metadata": {},
   "outputs": [],
   "source": []
  },
  {
   "cell_type": "markdown",
   "id": "632d8430",
   "metadata": {},
   "source": [
    "## 2.2. Tagger 2"
   ]
  },
  {
   "cell_type": "markdown",
   "id": "98221d35",
   "metadata": {},
   "source": [
    "Uitleg"
   ]
  },
  {
   "cell_type": "markdown",
   "id": "6c588a46",
   "metadata": {},
   "source": [
    "# 3. Tagging Articles"
   ]
  },
  {
   "cell_type": "markdown",
   "id": "816daee5",
   "metadata": {},
   "source": [
    "## 3.1. Import Articles"
   ]
  },
  {
   "cell_type": "code",
   "execution_count": null,
   "id": "b331f2c9",
   "metadata": {},
   "outputs": [],
   "source": []
  }
 ],
 "metadata": {
  "kernelspec": {
   "display_name": "Python 3",
   "language": "python",
   "name": "python3"
  },
  "language_info": {
   "codemirror_mode": {
    "name": "ipython",
    "version": 3
   },
   "file_extension": ".py",
   "mimetype": "text/x-python",
   "name": "python",
   "nbconvert_exporter": "python",
   "pygments_lexer": "ipython3",
   "version": "3.8.8"
  }
 },
 "nbformat": 4,
 "nbformat_minor": 5
}
