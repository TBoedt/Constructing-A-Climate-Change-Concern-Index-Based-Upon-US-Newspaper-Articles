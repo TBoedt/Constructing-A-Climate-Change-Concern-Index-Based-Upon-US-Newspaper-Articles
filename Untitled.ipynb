{
 "cells": [
  {
   "cell_type": "markdown",
   "id": "ea23a7dd",
   "metadata": {},
   "source": [
    "# 0. Import Packages"
   ]
  },
  {
   "cell_type": "code",
   "execution_count": 1,
   "id": "00697245",
   "metadata": {},
   "outputs": [],
   "source": [
    "import pandas as pd"
   ]
  },
  {
   "cell_type": "markdown",
   "id": "2690d12d",
   "metadata": {},
   "source": [
    "# 1. Load Files"
   ]
  },
  {
   "cell_type": "markdown",
   "id": "e7b4caf2",
   "metadata": {},
   "source": [
    "## 1.1. Wall Street Journal"
   ]
  },
  {
   "cell_type": "code",
   "execution_count": 2,
   "id": "a372202e",
   "metadata": {},
   "outputs": [],
   "source": [
    "WSJ = pd.read_parquet(\"Wall_Street_Journal_2016_Articles_34K\")"
   ]
  },
  {
   "cell_type": "code",
   "execution_count": 3,
   "id": "5dfd5627",
   "metadata": {},
   "outputs": [],
   "source": [
    "#Remove all duplicates\n",
    "WSJ = WSJ.drop_duplicates().reset_index(drop = True)"
   ]
  },
  {
   "cell_type": "code",
   "execution_count": 4,
   "id": "528e4199",
   "metadata": {},
   "outputs": [],
   "source": [
    "#Temporary subset\n",
    "WSJ = WSJ[0:500]"
   ]
  },
  {
   "cell_type": "markdown",
   "id": "d525c403",
   "metadata": {},
   "source": [
    "## 1.2. Washington Post"
   ]
  },
  {
   "cell_type": "code",
   "execution_count": null,
   "id": "2da3563b",
   "metadata": {},
   "outputs": [],
   "source": []
  },
  {
   "cell_type": "markdown",
   "id": "e1e409f1",
   "metadata": {},
   "source": [
    "# 2. Pre-Processing"
   ]
  },
  {
   "cell_type": "markdown",
   "id": "15acdd4e",
   "metadata": {},
   "source": [
    "## 2.1. Add Files Together"
   ]
  },
  {
   "cell_type": "code",
   "execution_count": null,
   "id": "4b741ce5",
   "metadata": {},
   "outputs": [],
   "source": []
  },
  {
   "cell_type": "markdown",
   "id": "04e23622",
   "metadata": {},
   "source": [
    "## 2.2. Clean Per Analysis"
   ]
  },
  {
   "cell_type": "markdown",
   "id": "9e650c2a",
   "metadata": {},
   "source": [
    "### 2.2.1. Analysis 1"
   ]
  },
  {
   "cell_type": "code",
   "execution_count": null,
   "id": "221b1ec2",
   "metadata": {},
   "outputs": [],
   "source": []
  },
  {
   "cell_type": "markdown",
   "id": "750a1384",
   "metadata": {},
   "source": [
    "# 3. Tag Climate Related Articles"
   ]
  },
  {
   "cell_type": "code",
   "execution_count": null,
   "id": "5b01ee33",
   "metadata": {},
   "outputs": [],
   "source": []
  }
 ],
 "metadata": {
  "kernelspec": {
   "display_name": "Python 3",
   "language": "python",
   "name": "python3"
  },
  "language_info": {
   "codemirror_mode": {
    "name": "ipython",
    "version": 3
   },
   "file_extension": ".py",
   "mimetype": "text/x-python",
   "name": "python",
   "nbconvert_exporter": "python",
   "pygments_lexer": "ipython3",
   "version": "3.8.8"
  }
 },
 "nbformat": 4,
 "nbformat_minor": 5
}
