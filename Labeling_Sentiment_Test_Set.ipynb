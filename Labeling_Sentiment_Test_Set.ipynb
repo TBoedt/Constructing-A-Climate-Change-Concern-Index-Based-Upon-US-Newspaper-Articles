{
 "cells": [
  {
   "cell_type": "markdown",
   "id": "afcad926",
   "metadata": {},
   "source": [
    "# Read Files"
   ]
  },
  {
   "cell_type": "code",
   "execution_count": null,
   "id": "3a8e1dfb",
   "metadata": {},
   "outputs": [],
   "source": [
    "import os\n",
    "import pandas as pd\n",
    "\n",
    "# Set the directory path\n",
    "directory = \"C:/Users/Boedt/OneDrive/Bureaublad/articles\"\n",
    "\n",
    "# Get a list of filenames in the directory\n",
    "filenames = os.listdir(directory)\n",
    "\n",
    "# Loop through the filenames and read each Parquet file into a DataFrame\n",
    "dfs = []\n",
    "for filename in filenames:\n",
    "    filepath = os.path.join(directory, filename)\n",
    "    df = pd.read_parquet(filepath)\n",
    "    dfs.append(df)\n",
    "\n",
    "# Concatenate all DataFrames into a single DataFrame\n",
    "climate_df = pd.concat(dfs, ignore_index=True)"
   ]
  },
  {
   "cell_type": "code",
   "execution_count": null,
   "id": "cab3d7a7",
   "metadata": {},
   "outputs": [],
   "source": [
    "climate_df.head(5)"
   ]
  },
  {
   "cell_type": "code",
   "execution_count": null,
   "id": "4c0fe70b",
   "metadata": {},
   "outputs": [],
   "source": [
    "from langdetect import detect\n",
    "\n",
    "# Define a lambda function to detect the language of a text value\n",
    "detect_language = lambda text: detect(text) if isinstance(text, str) else ''\n",
    "\n",
    "# Apply the function to the 'text' column and create a new 'language' column\n",
    "climate_df['language'] = climate_df['Text'].apply(detect_language)\n",
    "\n",
    "# Check which rows have English text in the 'language' column\n",
    "climate_df = climate_df[climate_df['language'] == 'en']"
   ]
  },
  {
   "cell_type": "markdown",
   "id": "029a2360",
   "metadata": {},
   "source": [
    "# Select a random subset of rows"
   ]
  },
  {
   "cell_type": "markdown",
   "id": "f89a77c7",
   "metadata": {},
   "source": [
    "We select 250 rows to have a reasonable sample size to test the accuracy of our sentiment classification methods"
   ]
  },
  {
   "cell_type": "code",
   "execution_count": null,
   "id": "66312216",
   "metadata": {},
   "outputs": [],
   "source": [
    "sample_df = climate_df.sample(n=250, random_state = 1).reset_index(drop = True)"
   ]
  },
  {
   "cell_type": "code",
   "execution_count": null,
   "id": "6430a78b",
   "metadata": {},
   "outputs": [],
   "source": [
    "sample_df = pd.read_parquet(\"Final_Label_Table.parquet\")"
   ]
  },
  {
   "cell_type": "code",
   "execution_count": null,
   "id": "663828dd",
   "metadata": {},
   "outputs": [],
   "source": [
    "sample_df.loc[90:100]"
   ]
  },
  {
   "cell_type": "code",
   "execution_count": null,
   "id": "c6363ab7",
   "metadata": {},
   "outputs": [],
   "source": [
    "#create the column that will have the label. We first input \"TBD\" and can than adapt in a process\n",
    "#sample_df[\"Sentiment_Label\"] = \"TBD\"\n",
    "#sample_df[\"Example\"] = \"No\"\n",
    "#sample_df[\"Climate_Change_Topic\"] = \"TBD\"\n",
    "#sample_df[\"Level_Climate_Change_Topic\"] = \"TBD\""
   ]
  },
  {
   "cell_type": "code",
   "execution_count": null,
   "id": "5d8e0059",
   "metadata": {},
   "outputs": [],
   "source": [
    "Label_df = sample_df"
   ]
  },
  {
   "cell_type": "code",
   "execution_count": null,
   "id": "9aa10c67",
   "metadata": {},
   "outputs": [],
   "source": [
    "Label_df.head(3)"
   ]
  },
  {
   "cell_type": "markdown",
   "id": "339f440b",
   "metadata": {},
   "source": [
    "# Label the text"
   ]
  },
  {
   "cell_type": "markdown",
   "id": "9cfe04cb",
   "metadata": {},
   "source": [
    "Negative: If the reader would read the text they would feel climate change will have a negative impact in the future. Potential policies are discussed, and the negative consequences are mentioned. If no action is taking, but the policies are suggestions, this is still negative as they are needed.\n",
    "\n",
    "Neutral: Informative\n",
    "\n",
    "Positive: if the reader would read the text they would feel climate change will have no or a positive impact in the future. Climate change policies that will help are implemented, or about to be implemented. "
   ]
  },
  {
   "cell_type": "code",
   "execution_count": null,
   "id": "af1a3f05",
   "metadata": {},
   "outputs": [],
   "source": [
    "for r in range(88,90):\n",
    "    print(Label_df.loc[r][\"Link\"])\n",
    "    print(Label_df.loc[r][\"Text\"])\n",
    "    \n",
    "    print(\"\\n\")\n",
    "    Label_df.loc[r, \"Climate_Change_Topic\"] = input(\"Is this about climate change: \")\n",
    "    print(\"\\n\")\n",
    "    Label_df.loc[r, \"Level_Climate_Change_Topic\"] = input(\"To what level is this about climate change? \")\n",
    "    print(\"\\n\")\n",
    "    Label_df.loc[r, \"Sentiment_Label\"] = input(\"Climate change sentiment: \")\n",
    "    print(\"\\n\")"
   ]
  },
  {
   "cell_type": "code",
   "execution_count": null,
   "id": "afd4a754",
   "metadata": {},
   "outputs": [],
   "source": [
    "finale_table = Label_df"
   ]
  },
  {
   "cell_type": "code",
   "execution_count": null,
   "id": "73f97a78",
   "metadata": {},
   "outputs": [],
   "source": [
    "finale_table.to_parquet(\"Final_Label_Table.parquet\")"
   ]
  },
  {
   "cell_type": "markdown",
   "id": "80414a06",
   "metadata": {},
   "source": [
    "# Clean Up"
   ]
  },
  {
   "cell_type": "code",
   "execution_count": null,
   "id": "bf259c50",
   "metadata": {},
   "outputs": [],
   "source": [
    "clean_label_df = pd.read_parquet(\"Final_Label_Table.parquet\")"
   ]
  },
  {
   "cell_type": "code",
   "execution_count": null,
   "id": "4bc0ef5e",
   "metadata": {},
   "outputs": [],
   "source": [
    "clean_label_df = clean_label_df[0:201]"
   ]
  },
  {
   "cell_type": "code",
   "execution_count": null,
   "id": "f606ae9d",
   "metadata": {},
   "outputs": [],
   "source": [
    "clean_label_df"
   ]
  },
  {
   "cell_type": "code",
   "execution_count": null,
   "id": "76514bf6",
   "metadata": {},
   "outputs": [],
   "source": [
    "clean_label_df['doubt'] = clean_label_df[['Sentiment_Label', 'Climate_Change_Topic', 'Level_Climate_Change_Topic']].apply(lambda row: row.astype(str).str.contains('note').any(), axis=1)"
   ]
  },
  {
   "cell_type": "code",
   "execution_count": null,
   "id": "c6d44ce5",
   "metadata": {},
   "outputs": [],
   "source": [
    "clean_label_df['Sentiment_Label'] = clean_label_df['Sentiment_Label'].apply(lambda row: row.replace('()', ''))\n",
    "clean_label_df['Climate_Change_Topic'] = clean_label_df['Climate_Change_Topic'].apply(lambda row: row.replace('()', ''))\n",
    "clean_label_df['Level_Climate_Change_Topic'] = clean_label_df['Level_Climate_Change_Topic'].apply(lambda row: row.replace('()', ''))"
   ]
  },
  {
   "cell_type": "code",
   "execution_count": null,
   "id": "b7e3e8c6",
   "metadata": {},
   "outputs": [],
   "source": [
    "clean_label_df = clean_label_df.drop(['language', 'Example'], axis=1)"
   ]
  },
  {
   "cell_type": "code",
   "execution_count": null,
   "id": "aa748640",
   "metadata": {},
   "outputs": [],
   "source": [
    "clean_label_df.to_parquet(\"Final_Label_Table.parquet\")"
   ]
  },
  {
   "cell_type": "markdown",
   "id": "93d69091",
   "metadata": {},
   "source": [
    "# Réane"
   ]
  },
  {
   "cell_type": "code",
   "execution_count": null,
   "id": "49b819ad",
   "metadata": {},
   "outputs": [],
   "source": [
    "tabel = pd.read_parquet(\"Final_Label_Table.parquet\")"
   ]
  },
  {
   "cell_type": "code",
   "execution_count": null,
   "id": "d32b7f71",
   "metadata": {},
   "outputs": [],
   "source": [
    "for r in range(0,1):\n",
    "    print(tabel.loc[r][\"Link\"])\n",
    "    print(tabel.loc[r][\"Text\"])\n",
    "    \n",
    "    print(\"\\n\")\n",
    "    tabel.loc[r, \"Climate_Change_Topic_R\"] = input(\"Is this about climate change: \")\n",
    "    print(\"\\n\")\n",
    "    tabel.loc[r, \"Level_Climate_Change_Topic_R\"] = input(\"To what level is this about climate change? \")\n",
    "    print(\"\\n\")\n",
    "    tabel.loc[r, \"Sentiment_Label_R\"] = input(\"Climate change sentiment: \")\n",
    "    print(\"\\n\")"
   ]
  },
  {
   "cell_type": "code",
   "execution_count": null,
   "id": "108aaf2e",
   "metadata": {},
   "outputs": [],
   "source": [
    "tabel.to_parquet(\"Final_Label_Table.parquet\")"
   ]
  },
  {
   "cell_type": "code",
   "execution_count": null,
   "id": "eef56a04",
   "metadata": {},
   "outputs": [],
   "source": []
  }
 ],
 "metadata": {
  "kernelspec": {
   "display_name": "Python 3",
   "language": "python",
   "name": "python3"
  },
  "language_info": {
   "codemirror_mode": {
    "name": "ipython",
    "version": 3
   },
   "file_extension": ".py",
   "mimetype": "text/x-python",
   "name": "python",
   "nbconvert_exporter": "python",
   "pygments_lexer": "ipython3",
   "version": "3.8.8"
  }
 },
 "nbformat": 4,
 "nbformat_minor": 5
}
