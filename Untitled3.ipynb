{
 "cells": [
  {
   "cell_type": "code",
   "execution_count": 52,
   "id": "fb45c3ab",
   "metadata": {},
   "outputs": [],
   "source": [
    "from selenium import webdriver\n",
    "from selenium.webdriver.common.keys import Keys\n",
    "from selenium.webdriver.common.by import By\n",
    "from selenium.webdriver.support import expected_conditions as EC\n",
    "from selenium.webdriver.support.wait import WebDriverWait\n",
    "from selenium.webdriver.common.action_chains import ActionChains\n",
    "from selenium.webdriver.chrome.options import Options\n",
    "import time\n",
    "import re\n",
    "import pandas as pd\n",
    "from datetime import datetime\n",
    "from datetime import date\n",
    "from datetime import date, timedelta\n",
    "import random\n",
    "import threading\n",
    "import numpy\n",
    "import multiprocessing as np\n",
    "from multiprocessing import Pool\n",
    "import concurrent.futures\n",
    "import os"
   ]
  },
  {
   "cell_type": "code",
   "execution_count": 63,
   "id": "24a96911",
   "metadata": {},
   "outputs": [],
   "source": [
    "driver = webdriver.Chrome()\n",
    "driver.get(\"https://www.bbc.com/news/science-environment-11833685\")\n",
    "Lexicon = []\n",
    "\n",
    "words = WebDriverWait(driver, 10).until(EC.presence_of_all_elements_located((By.TAG_NAME, \"b\")))\n",
    "\n",
    "for w in words:\n",
    "    Lexicon.append(w.text)\n",
    "\n",
    "driver.quit()\n",
    "\n",
    "df = pd.DataFrame({\"Lexicon\" : Lexicon})\n",
    "df = df[1:72].reset_index(drop = True)"
   ]
  },
  {
   "cell_type": "code",
   "execution_count": 83,
   "id": "f4b1dfdd",
   "metadata": {},
   "outputs": [],
   "source": [
    "df = pd.read_excel('lexicons-used.xlsx', sheet_name = \"EPA\", header = None)\n",
    "df.columns = [\"Lexicon\"]"
   ]
  },
  {
   "cell_type": "code",
   "execution_count": 84,
   "id": "19b30cbd",
   "metadata": {},
   "outputs": [],
   "source": [
    "df['Haakjes'] = df['Lexicon'].str.extract(r'\\((.*?)\\)')"
   ]
  },
  {
   "cell_type": "code",
   "execution_count": 85,
   "id": "464548b3",
   "metadata": {},
   "outputs": [
    {
     "name": "stderr",
     "output_type": "stream",
     "text": [
      "<ipython-input-85-4d6ced4b072e>:1: FutureWarning: The default value of regex will change from True to False in a future version.\n",
      "  df['Lexicon'] = df['Lexicon'].str.replace(r'\\(.*?\\)', '')\n"
     ]
    }
   ],
   "source": [
    "df['Lexicon'] = df['Lexicon'].str.replace(r'\\(.*?\\)', '')"
   ]
  },
  {
   "cell_type": "code",
   "execution_count": 86,
   "id": "714abad5",
   "metadata": {},
   "outputs": [
    {
     "data": {
      "text/plain": [
       "['or Earth System',\n",
       " 'ENSO',\n",
       " 'GCM',\n",
       " 'GHG',\n",
       " 'HCFCs',\n",
       " 'HFCs',\n",
       " 'IPCC',\n",
       " 'CH4',\n",
       " 'MSW',\n",
       " 'NOx',\n",
       " 'N2O',\n",
       " 'NMVOCs',\n",
       " 'ODS',\n",
       " 'PM',\n",
       " 'ppb',\n",
       " 'ppmv',\n",
       " 'ppt',\n",
       " 'PFCs',\n",
       " 'SF6',\n",
       " 'O3',\n",
       " 'UV',\n",
       " 'UNFCCC']"
      ]
     },
     "execution_count": 86,
     "metadata": {},
     "output_type": "execute_result"
    }
   ],
   "source": [
    "list((df[~df[\"Haakjes\"].isna()][\"Haakjes\"]))"
   ]
  },
  {
   "cell_type": "code",
   "execution_count": 87,
   "id": "7f64d0c4",
   "metadata": {},
   "outputs": [],
   "source": [
    "df2 = pd.DataFrame({\"Lexicon\" : list((df[~df[\"Haakjes\"].isna()][\"Haakjes\"]))})"
   ]
  },
  {
   "cell_type": "code",
   "execution_count": 88,
   "id": "ee9de153",
   "metadata": {},
   "outputs": [],
   "source": [
    "df3 = pd.concat([df, df2]).reset_index(drop = True)"
   ]
  },
  {
   "cell_type": "code",
   "execution_count": 89,
   "id": "546a981d",
   "metadata": {},
   "outputs": [],
   "source": [
    "Lexicon = pd.DataFrame({\"Lexicon\" : list(df3[\"Lexicon\"])})"
   ]
  },
  {
   "cell_type": "code",
   "execution_count": 90,
   "id": "706629ec",
   "metadata": {},
   "outputs": [
    {
     "data": {
      "text/html": [
       "<div>\n",
       "<style scoped>\n",
       "    .dataframe tbody tr th:only-of-type {\n",
       "        vertical-align: middle;\n",
       "    }\n",
       "\n",
       "    .dataframe tbody tr th {\n",
       "        vertical-align: top;\n",
       "    }\n",
       "\n",
       "    .dataframe thead th {\n",
       "        text-align: right;\n",
       "    }\n",
       "</style>\n",
       "<table border=\"1\" class=\"dataframe\">\n",
       "  <thead>\n",
       "    <tr style=\"text-align: right;\">\n",
       "      <th></th>\n",
       "      <th>Lexicon</th>\n",
       "    </tr>\n",
       "  </thead>\n",
       "  <tbody>\n",
       "    <tr>\n",
       "      <th>0</th>\n",
       "      <td>Abrupt Climate Change</td>\n",
       "    </tr>\n",
       "    <tr>\n",
       "      <th>1</th>\n",
       "      <td>Adaptation</td>\n",
       "    </tr>\n",
       "    <tr>\n",
       "      <th>2</th>\n",
       "      <td>Adaptive Capacity</td>\n",
       "    </tr>\n",
       "    <tr>\n",
       "      <th>3</th>\n",
       "      <td>Aerosols</td>\n",
       "    </tr>\n",
       "    <tr>\n",
       "      <th>4</th>\n",
       "      <td>Afforestation</td>\n",
       "    </tr>\n",
       "    <tr>\n",
       "      <th>...</th>\n",
       "      <td>...</td>\n",
       "    </tr>\n",
       "    <tr>\n",
       "      <th>171</th>\n",
       "      <td>PFCs</td>\n",
       "    </tr>\n",
       "    <tr>\n",
       "      <th>172</th>\n",
       "      <td>SF6</td>\n",
       "    </tr>\n",
       "    <tr>\n",
       "      <th>173</th>\n",
       "      <td>O3</td>\n",
       "    </tr>\n",
       "    <tr>\n",
       "      <th>174</th>\n",
       "      <td>UV</td>\n",
       "    </tr>\n",
       "    <tr>\n",
       "      <th>175</th>\n",
       "      <td>UNFCCC</td>\n",
       "    </tr>\n",
       "  </tbody>\n",
       "</table>\n",
       "<p>176 rows × 1 columns</p>\n",
       "</div>"
      ],
      "text/plain": [
       "                   Lexicon\n",
       "0    Abrupt Climate Change\n",
       "1               Adaptation\n",
       "2        Adaptive Capacity\n",
       "3                 Aerosols\n",
       "4            Afforestation\n",
       "..                     ...\n",
       "171                   PFCs\n",
       "172                    SF6\n",
       "173                     O3\n",
       "174                     UV\n",
       "175                 UNFCCC\n",
       "\n",
       "[176 rows x 1 columns]"
      ]
     },
     "execution_count": 90,
     "metadata": {},
     "output_type": "execute_result"
    }
   ],
   "source": [
    "Lexicon"
   ]
  },
  {
   "cell_type": "code",
   "execution_count": 91,
   "id": "ab1b4c07",
   "metadata": {},
   "outputs": [],
   "source": [
    "Lexicon.to_excel(\"EPA.xlsx\")"
   ]
  }
 ],
 "metadata": {
  "kernelspec": {
   "display_name": "Python 3",
   "language": "python",
   "name": "python3"
  },
  "language_info": {
   "codemirror_mode": {
    "name": "ipython",
    "version": 3
   },
   "file_extension": ".py",
   "mimetype": "text/x-python",
   "name": "python",
   "nbconvert_exporter": "python",
   "pygments_lexer": "ipython3",
   "version": "3.8.8"
  }
 },
 "nbformat": 4,
 "nbformat_minor": 5
}
