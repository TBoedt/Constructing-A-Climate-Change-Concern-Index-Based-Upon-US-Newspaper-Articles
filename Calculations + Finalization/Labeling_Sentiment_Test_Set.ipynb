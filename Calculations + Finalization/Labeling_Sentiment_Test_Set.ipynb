{
 "cells": [
  {
   "cell_type": "markdown",
   "id": "afcad926",
   "metadata": {},
   "source": [
    "# Read Files"
   ]
  },
  {
   "cell_type": "code",
   "execution_count": null,
   "id": "e15a72a0",
   "metadata": {},
   "outputs": [],
   "source": [
    "import os\n",
    "import pandas as pd"
   ]
  },
  {
   "cell_type": "code",
   "execution_count": null,
   "id": "3a8e1dfb",
   "metadata": {},
   "outputs": [],
   "source": [
    "# Set the directory path\n",
    "directory = \"C:/Users/Boedt/OneDrive/Bureaublad/articles\"\n",
    "\n",
    "# Get a list of filenames in the directory\n",
    "filenames = os.listdir(directory)\n",
    "\n",
    "# Loop through the filenames and read each Parquet file into a DataFrame\n",
    "dfs = []\n",
    "for filename in filenames:\n",
    "    filepath = os.path.join(directory, filename)\n",
    "    df = pd.read_parquet(filepath)\n",
    "    dfs.append(df)\n",
    "\n",
    "# Concatenate all DataFrames into a single DataFrame\n",
    "climate_df = pd.concat(dfs, ignore_index=True)"
   ]
  },
  {
   "cell_type": "code",
   "execution_count": null,
   "id": "cab3d7a7",
   "metadata": {},
   "outputs": [],
   "source": [
    "climate_df.head(5)"
   ]
  },
  {
   "cell_type": "code",
   "execution_count": null,
   "id": "4c0fe70b",
   "metadata": {},
   "outputs": [],
   "source": [
    "from langdetect import detect\n",
    "\n",
    "# Define a lambda function to detect the language of a text value\n",
    "detect_language = lambda text: detect(text) if isinstance(text, str) else ''\n",
    "\n",
    "# Apply the function to the 'text' column and create a new 'language' column\n",
    "climate_df['language'] = climate_df['Text'].apply(detect_language)\n",
    "\n",
    "# Check which rows have English text in the 'language' column\n",
    "climate_df = climate_df[climate_df['language'] == 'en']"
   ]
  },
  {
   "cell_type": "markdown",
   "id": "029a2360",
   "metadata": {},
   "source": [
    "# Select a random subset of rows"
   ]
  },
  {
   "cell_type": "markdown",
   "id": "f89a77c7",
   "metadata": {},
   "source": [
    "We select 250 rows to have a reasonable sample size to test the accuracy of our sentiment classification methods"
   ]
  },
  {
   "cell_type": "code",
   "execution_count": null,
   "id": "66312216",
   "metadata": {},
   "outputs": [],
   "source": [
    "sample_df = climate_df.sample(n=250, random_state = 1).reset_index(drop = True)"
   ]
  },
  {
   "cell_type": "code",
   "execution_count": null,
   "id": "6430a78b",
   "metadata": {},
   "outputs": [],
   "source": [
    "sample_df = pd.read_parquet(\"Final_Label_Table.parquet\")"
   ]
  },
  {
   "cell_type": "code",
   "execution_count": null,
   "id": "663828dd",
   "metadata": {},
   "outputs": [],
   "source": [
    "sample_df.loc[90:100]"
   ]
  },
  {
   "cell_type": "code",
   "execution_count": null,
   "id": "c6363ab7",
   "metadata": {},
   "outputs": [],
   "source": [
    "#create the column that will have the label. We first input \"TBD\" and can than adapt in a process\n",
    "#sample_df[\"Sentiment_Label\"] = \"TBD\"\n",
    "#sample_df[\"Example\"] = \"No\"\n",
    "#sample_df[\"Climate_Change_Topic\"] = \"TBD\"\n",
    "#sample_df[\"Level_Climate_Change_Topic\"] = \"TBD\""
   ]
  },
  {
   "cell_type": "code",
   "execution_count": null,
   "id": "5d8e0059",
   "metadata": {},
   "outputs": [],
   "source": [
    "Label_df = sample_df"
   ]
  },
  {
   "cell_type": "code",
   "execution_count": null,
   "id": "9aa10c67",
   "metadata": {},
   "outputs": [],
   "source": [
    "Label_df.head(3)"
   ]
  },
  {
   "cell_type": "markdown",
   "id": "339f440b",
   "metadata": {},
   "source": [
    "# Label the text"
   ]
  },
  {
   "cell_type": "markdown",
   "id": "9cfe04cb",
   "metadata": {},
   "source": [
    "Negative: If the reader would read the text they would feel climate change will have a negative impact in the future. Potential policies are discussed, and the negative consequences are mentioned. If no action is taking, but the policies are suggestions, this is still negative as they are needed.\n",
    "\n",
    "Neutral: Informative\n",
    "\n",
    "Positive: if the reader would read the text they would feel climate change will have no or a positive impact in the future. Climate change policies that will help are implemented, or about to be implemented. "
   ]
  },
  {
   "cell_type": "code",
   "execution_count": null,
   "id": "af1a3f05",
   "metadata": {},
   "outputs": [],
   "source": [
    "for r in range(88,90):\n",
    "    print(Label_df.loc[r][\"Link\"])\n",
    "    print(Label_df.loc[r][\"Text\"])\n",
    "    \n",
    "    print(\"\\n\")\n",
    "    Label_df.loc[r, \"Climate_Change_Topic\"] = input(\"Is this about climate change: \")\n",
    "    print(\"\\n\")\n",
    "    Label_df.loc[r, \"Level_Climate_Change_Topic\"] = input(\"To what level is this about climate change? \")\n",
    "    print(\"\\n\")\n",
    "    Label_df.loc[r, \"Sentiment_Label\"] = input(\"Climate change sentiment: \")\n",
    "    print(\"\\n\")"
   ]
  },
  {
   "cell_type": "code",
   "execution_count": null,
   "id": "afd4a754",
   "metadata": {},
   "outputs": [],
   "source": [
    "finale_table = Label_df"
   ]
  },
  {
   "cell_type": "code",
   "execution_count": null,
   "id": "73f97a78",
   "metadata": {},
   "outputs": [],
   "source": [
    "finale_table.to_parquet(\"Final_Label_Table.parquet\")"
   ]
  },
  {
   "cell_type": "markdown",
   "id": "80414a06",
   "metadata": {},
   "source": [
    "# Clean Up"
   ]
  },
  {
   "cell_type": "code",
   "execution_count": null,
   "id": "bf259c50",
   "metadata": {},
   "outputs": [],
   "source": [
    "clean_label_df = pd.read_parquet(\"Final_Label_Table.parquet\")"
   ]
  },
  {
   "cell_type": "code",
   "execution_count": null,
   "id": "4bc0ef5e",
   "metadata": {},
   "outputs": [],
   "source": [
    "clean_label_df = clean_label_df[0:201]"
   ]
  },
  {
   "cell_type": "code",
   "execution_count": null,
   "id": "f606ae9d",
   "metadata": {},
   "outputs": [],
   "source": [
    "clean_label_df"
   ]
  },
  {
   "cell_type": "code",
   "execution_count": null,
   "id": "76514bf6",
   "metadata": {},
   "outputs": [],
   "source": [
    "clean_label_df['doubt'] = clean_label_df[['Sentiment_Label', 'Climate_Change_Topic', 'Level_Climate_Change_Topic']].apply(lambda row: row.astype(str).str.contains('note').any(), axis=1)"
   ]
  },
  {
   "cell_type": "code",
   "execution_count": null,
   "id": "c6d44ce5",
   "metadata": {},
   "outputs": [],
   "source": [
    "clean_label_df['Sentiment_Label'] = clean_label_df['Sentiment_Label'].apply(lambda row: row.replace('()', ''))\n",
    "clean_label_df['Climate_Change_Topic'] = clean_label_df['Climate_Change_Topic'].apply(lambda row: row.replace('()', ''))\n",
    "clean_label_df['Level_Climate_Change_Topic'] = clean_label_df['Level_Climate_Change_Topic'].apply(lambda row: row.replace('()', ''))"
   ]
  },
  {
   "cell_type": "code",
   "execution_count": null,
   "id": "b7e3e8c6",
   "metadata": {},
   "outputs": [],
   "source": [
    "clean_label_df = clean_label_df.drop(['language', 'Example'], axis=1)"
   ]
  },
  {
   "cell_type": "code",
   "execution_count": null,
   "id": "aa748640",
   "metadata": {},
   "outputs": [],
   "source": [
    "clean_label_df.to_parquet(\"Final_Label_Table.parquet\")"
   ]
  },
  {
   "cell_type": "markdown",
   "id": "c24444bb",
   "metadata": {},
   "source": [
    "# Réane"
   ]
  },
  {
   "cell_type": "code",
   "execution_count": null,
   "id": "afe12d33",
   "metadata": {},
   "outputs": [],
   "source": [
    "tabel = pd.read_parquet(\"Final_Label_Table.parquet\")"
   ]
  },
  {
   "cell_type": "code",
   "execution_count": null,
   "id": "9367b022",
   "metadata": {},
   "outputs": [],
   "source": [
    "for r in range(0,1):\n",
    "    print(tabel.loc[r][\"Link\"])\n",
    "    print(tabel.loc[r][\"Text\"])\n",
    "    \n",
    "    print(\"\\n\")\n",
    "    tabel.loc[r, \"Climate_Change_Topic_R\"] = input(\"Is this about climate change: \")\n",
    "    print(\"\\n\")\n",
    "    tabel.loc[r, \"Level_Climate_Change_Topic_R\"] = input(\"To what level is this about climate change? \")\n",
    "    print(\"\\n\")\n",
    "    tabel.loc[r, \"Sentiment_Label_R\"] = input(\"Climate change sentiment: \")\n",
    "    print(\"\\n\")"
   ]
  },
  {
   "cell_type": "code",
   "execution_count": null,
   "id": "b681192e",
   "metadata": {},
   "outputs": [],
   "source": [
    "tabel.to_parquet(\"Final_Label_Table.parquet\")"
   ]
  },
  {
   "cell_type": "markdown",
   "id": "d5a35363",
   "metadata": {},
   "source": [
    "# Check Réane and Tibo"
   ]
  },
  {
   "cell_type": "code",
   "execution_count": 109,
   "id": "09ac7748",
   "metadata": {},
   "outputs": [],
   "source": [
    "df = pd.read_parquet(\"Climate_Labels_Dataset.parquet\")"
   ]
  },
  {
   "cell_type": "code",
   "execution_count": 117,
   "id": "388e39f0",
   "metadata": {},
   "outputs": [],
   "source": [
    "loop = df[df[\"Final_Climate_Change_Level_Label\"] == \"Na\"].reset_index(drop = True)"
   ]
  },
  {
   "cell_type": "code",
   "execution_count": 121,
   "id": "44605b65",
   "metadata": {},
   "outputs": [
    {
     "data": {
      "text/html": [
       "<div>\n",
       "<style scoped>\n",
       "    .dataframe tbody tr th:only-of-type {\n",
       "        vertical-align: middle;\n",
       "    }\n",
       "\n",
       "    .dataframe tbody tr th {\n",
       "        vertical-align: top;\n",
       "    }\n",
       "\n",
       "    .dataframe thead th {\n",
       "        text-align: right;\n",
       "    }\n",
       "</style>\n",
       "<table border=\"1\" class=\"dataframe\">\n",
       "  <thead>\n",
       "    <tr style=\"text-align: right;\">\n",
       "      <th></th>\n",
       "      <th>Text</th>\n",
       "      <th>Link</th>\n",
       "      <th>Sentiment_Label</th>\n",
       "      <th>Sentiment_Label_R</th>\n",
       "      <th>Level_Climate_Change_Topic</th>\n",
       "      <th>Level_Climate_Change_Topic_R</th>\n",
       "      <th>Final_Climate_Change_Level_Label</th>\n",
       "    </tr>\n",
       "  </thead>\n",
       "  <tbody>\n",
       "    <tr>\n",
       "      <th>0</th>\n",
       "      <td>This morning I woke up with a hangover softly ...</td>\n",
       "      <td>https://www.washingtonpost.com/posteverything/...</td>\n",
       "      <td>0</td>\n",
       "      <td>0</td>\n",
       "      <td>Na</td>\n",
       "      <td>0</td>\n",
       "      <td>Na</td>\n",
       "    </tr>\n",
       "    <tr>\n",
       "      <th>1</th>\n",
       "      <td>Bullets stole the life of a pregnant mother of...</td>\n",
       "      <td>https://www.washingtonpost.com/news/morning-mi...</td>\n",
       "      <td>0</td>\n",
       "      <td>0</td>\n",
       "      <td>Na</td>\n",
       "      <td>0</td>\n",
       "      <td>Na</td>\n",
       "    </tr>\n",
       "    <tr>\n",
       "      <th>2</th>\n",
       "      <td>They came by the dozens in luxury sedans, bla...</td>\n",
       "      <td>https://www.wsj.com/articles/ge-powered-the-am...</td>\n",
       "      <td>link</td>\n",
       "      <td>+1</td>\n",
       "      <td>0</td>\n",
       "      <td>Small</td>\n",
       "      <td>Na</td>\n",
       "    </tr>\n",
       "    <tr>\n",
       "      <th>3</th>\n",
       "      <td>SEN. BERNIE Sanders (I-Vt.) is leading in New ...</td>\n",
       "      <td>https://www.washingtonpost.com/opinions/bernie...</td>\n",
       "      <td>0</td>\n",
       "      <td>0</td>\n",
       "      <td>Na</td>\n",
       "      <td>0</td>\n",
       "      <td>Na</td>\n",
       "    </tr>\n",
       "    <tr>\n",
       "      <th>4</th>\n",
       "      <td>In hismany rambling, self-pitying appeals sin...</td>\n",
       "      <td>http://www.wsj.com/articles/obedience-as-femin...</td>\n",
       "      <td>0</td>\n",
       "      <td>0</td>\n",
       "      <td>Na</td>\n",
       "      <td>0</td>\n",
       "      <td>Na</td>\n",
       "    </tr>\n",
       "    <tr>\n",
       "      <th>5</th>\n",
       "      <td>This article is part of a Wall Street Journal...</td>\n",
       "      <td>https://www.wsj.com/articles/where-trump-and-b...</td>\n",
       "      <td>0</td>\n",
       "      <td>0</td>\n",
       "      <td>Na</td>\n",
       "      <td>High</td>\n",
       "      <td>Na</td>\n",
       "    </tr>\n",
       "    <tr>\n",
       "      <th>6</th>\n",
       "      <td>Stephen Petersen, head of conservation and res...</td>\n",
       "      <td>https://www.washingtonpost.com/news/speaking-o...</td>\n",
       "      <td>0</td>\n",
       "      <td>0</td>\n",
       "      <td>Na</td>\n",
       "      <td>0</td>\n",
       "      <td>Na</td>\n",
       "    </tr>\n",
       "    <tr>\n",
       "      <th>7</th>\n",
       "      <td>This story about a bear somehow getting stuck ...</td>\n",
       "      <td>https://www.washingtonpost.com/news/morning-mi...</td>\n",
       "      <td>0</td>\n",
       "      <td>0</td>\n",
       "      <td>Na</td>\n",
       "      <td>0</td>\n",
       "      <td>Na</td>\n",
       "    </tr>\n",
       "    <tr>\n",
       "      <th>8</th>\n",
       "      <td>If a Hollywood exec dreamed up an egg, it woul...</td>\n",
       "      <td>https://www.washingtonpost.com/news/speaking-o...</td>\n",
       "      <td>0</td>\n",
       "      <td>0</td>\n",
       "      <td>Na</td>\n",
       "      <td>0</td>\n",
       "      <td>Na</td>\n",
       "    </tr>\n",
       "    <tr>\n",
       "      <th>9</th>\n",
       "      <td>The first thing Valerie Riley does when she a...</td>\n",
       "      <td>http://www.wsj.com/articles/let-the-office-the...</td>\n",
       "      <td>0</td>\n",
       "      <td>0</td>\n",
       "      <td>Na</td>\n",
       "      <td>0</td>\n",
       "      <td>Na</td>\n",
       "    </tr>\n",
       "  </tbody>\n",
       "</table>\n",
       "</div>"
      ],
      "text/plain": [
       "                                                Text  \\\n",
       "0  This morning I woke up with a hangover softly ...   \n",
       "1  Bullets stole the life of a pregnant mother of...   \n",
       "2   They came by the dozens in luxury sedans, bla...   \n",
       "3  SEN. BERNIE Sanders (I-Vt.) is leading in New ...   \n",
       "4   In hismany rambling, self-pitying appeals sin...   \n",
       "5   This article is part of a Wall Street Journal...   \n",
       "6  Stephen Petersen, head of conservation and res...   \n",
       "7  This story about a bear somehow getting stuck ...   \n",
       "8  If a Hollywood exec dreamed up an egg, it woul...   \n",
       "9   The first thing Valerie Riley does when she a...   \n",
       "\n",
       "                                                Link Sentiment_Label  \\\n",
       "0  https://www.washingtonpost.com/posteverything/...               0   \n",
       "1  https://www.washingtonpost.com/news/morning-mi...               0   \n",
       "2  https://www.wsj.com/articles/ge-powered-the-am...            link   \n",
       "3  https://www.washingtonpost.com/opinions/bernie...               0   \n",
       "4  http://www.wsj.com/articles/obedience-as-femin...               0   \n",
       "5  https://www.wsj.com/articles/where-trump-and-b...               0   \n",
       "6  https://www.washingtonpost.com/news/speaking-o...               0   \n",
       "7  https://www.washingtonpost.com/news/morning-mi...               0   \n",
       "8  https://www.washingtonpost.com/news/speaking-o...               0   \n",
       "9  http://www.wsj.com/articles/let-the-office-the...               0   \n",
       "\n",
       "  Sentiment_Label_R Level_Climate_Change_Topic Level_Climate_Change_Topic_R  \\\n",
       "0                 0                         Na                            0   \n",
       "1                 0                         Na                            0   \n",
       "2                +1                          0                        Small   \n",
       "3                 0                         Na                            0   \n",
       "4                 0                         Na                            0   \n",
       "5                 0                         Na                         High   \n",
       "6                 0                         Na                            0   \n",
       "7                 0                         Na                            0   \n",
       "8                 0                         Na                            0   \n",
       "9                 0                         Na                            0   \n",
       "\n",
       "  Final_Climate_Change_Level_Label  \n",
       "0                               Na  \n",
       "1                               Na  \n",
       "2                               Na  \n",
       "3                               Na  \n",
       "4                               Na  \n",
       "5                               Na  \n",
       "6                               Na  \n",
       "7                               Na  \n",
       "8                               Na  \n",
       "9                               Na  "
      ]
     },
     "execution_count": 121,
     "metadata": {},
     "output_type": "execute_result"
    }
   ],
   "source": [
    "loop"
   ]
  },
  {
   "cell_type": "code",
   "execution_count": 95,
   "id": "96638072",
   "metadata": {},
   "outputs": [],
   "source": [
    "New_Labels_Tibo = []"
   ]
  },
  {
   "cell_type": "code",
   "execution_count": 96,
   "id": "cf10ecf3",
   "metadata": {},
   "outputs": [
    {
     "name": "stdout",
     "output_type": "stream",
     "text": [
      "https://www.wsj.com/articles/tesla-knocks-on-s-p-500s-door-11595410201\n",
      "Tibo: Small\n",
      "Reane: Medium\n",
      "\n",
      "\n",
      "To what level is this about climate change? Small\n",
      "\n",
      "\n",
      "http://www.wsj.com/articles/woodside-continues-to-look-for-acquisitions-chairman-says-1461213995\n",
      "Tibo: Small\n",
      "Reane: Medium\n",
      "\n",
      "\n",
      "To what level is this about climate change? Small\n",
      "\n",
      "\n",
      "https://www.wsj.com/articles/u-k-sets-plan-to-keep-up-with-new-york-as-financial-center-after-brexit-11604952230\n",
      "Tibo: Small\n",
      "Reane: Medium\n",
      "\n",
      "\n",
      "To what level is this about climate change? Medium\n",
      "\n",
      "\n",
      "https://www.washingtonpost.com/health/alaskas-salmon-are-shrinking-and-climate-change-may-be-to-blame/2020/09/04/36140c5c-e32d-11ea-8dd2-d07812bf00f7_story.html\n",
      "Tibo: Medium\n",
      "Reane: Small\n",
      "\n",
      "\n",
      "To what level is this about climate change? Medium\n",
      "\n",
      "\n",
      "https://www.washingtonpost.com/news/post-politics/wp/2016/06/10/first-family-to-take-road-trip-to-yellowstone-carlsbad-caverns-next-week/\n",
      "Tibo: Medium\n",
      "Reane: Small\n",
      "\n",
      "\n",
      "To what level is this about climate change? Small\n",
      "\n",
      "\n",
      "https://www.washingtonpost.com/opinions/trumps-selfishness-harms-you-too/2020/01/26/78a0027a-3edb-11ea-b90d-5652806c3b3a_story.html\n",
      "Tibo: Medium\n",
      "Reane: Small\n",
      "\n",
      "\n",
      "To what level is this about climate change? Medium\n",
      "\n",
      "\n",
      "https://www.wsj.com/articles/the-red-meat-rethink-11570056572\n",
      "Tibo: Small\n",
      "Reane: Medium\n",
      "\n",
      "\n",
      "To what level is this about climate change? Small\n",
      "\n",
      "\n",
      "https://www.wsj.com/articles/the-journeys-of-trees-review-giants-in-transit-11602256237\n",
      "Tibo: Medium\n",
      "Reane: Small\n",
      "\n",
      "\n",
      "To what level is this about climate change? Medium\n",
      "\n",
      "\n",
      "https://www.wsj.com/articles/can-the-worlds-seafood-gap-be-filled-1508119200\n",
      "Tibo: Small\n",
      "Reane: Medium\n",
      "\n",
      "\n",
      "To what level is this about climate change? Small\n",
      "\n",
      "\n",
      "https://www.washingtonpost.com/news/capital-weather-gang/wp/2016/04/25/watch-this-river-ignite-into-flames-as-methane-bubbles-to-the-surface/\n",
      "Tibo: High\n",
      "Reane: Medium\n",
      "\n",
      "\n",
      "To what level is this about climate change? Medium\n",
      "\n",
      "\n",
      "https://www.washingtonpost.com/opinions/republicans-beware-moderates-could-help-elect-clinton/2016/05/12/f583bdd6-0e4c-11e6-8ab8-9ad050f76d7d_story.html\n",
      "Tibo: Small\n",
      "Reane: Medium\n",
      "\n",
      "\n",
      "To what level is this about climate change? Small\n",
      "\n",
      "\n",
      "https://www.washingtonpost.com/national/leader-of-armed-standoff-in-oregon-begins-talking-to-fbi-negotiator/2016/01/21/5c0f0718-c087-11e5-bcda-62a36b394160_story.html\n",
      "Tibo: Medium\n",
      "Reane: High\n",
      "\n",
      "\n",
      "To what level is this about climate change? Medium\n",
      "\n",
      "\n",
      "https://www.wsj.com/articles/where-trump-and-biden-stand-on-mortgage-finance-11602158413\n",
      "Tibo: Na\n",
      "Reane: High\n",
      "\n",
      "\n",
      "To what level is this about climate change? Na\n",
      "\n",
      "\n",
      "https://www.washingtonpost.com/blogs/plum-line/wp/2016/07/12/the-deadliest-weapon-against-donald-trump-his-own-words/\n",
      "Tibo: Small\n",
      "Reane: Medium\n",
      "\n",
      "\n",
      "To what level is this about climate change? Small\n",
      "\n",
      "\n",
      "https://www.wsj.com/articles/fighting-wildfires-with-fire-11601502723\n",
      "Tibo: Na\n",
      "Reane: High\n",
      "\n",
      "\n",
      "To what level is this about climate change? Small\n",
      "\n",
      "\n",
      "https://www.wsj.com/articles/u-k-regulator-asks-asset-owners-managers-to-consider-esg-11571871660\n",
      "Tibo: Medium\n",
      "Reane: High\n",
      "\n",
      "\n",
      "To what level is this about climate change? Medium\n",
      "\n",
      "\n",
      "https://www.wsj.com/articles/best-companies-at-managing-environmental-risk-11602597898\n",
      "Tibo: Medium\n",
      "Reane: High\n",
      "\n",
      "\n",
      "To what level is this about climate change? Medium\n",
      "\n",
      "\n",
      "https://www.washingtonpost.com/politics/wary-of-chinas-rise-obama-turns-strategic-focus-to-southeast-asia/2016/02/14/e627ca7c-d197-11e5-b2bc-988409ee911b_story.html\n",
      "Tibo: Medium\n",
      "Reane: Small\n",
      "\n",
      "\n",
      "To what level is this about climate change? Small\n",
      "\n",
      "\n",
      "https://www.wsj.com/articles/gm-drives-in-political-reverse-11606348737\n",
      "Tibo: High\n",
      "Reane: Small\n",
      "\n",
      "\n",
      "To what level is this about climate change? Small\n",
      "\n",
      "\n",
      "https://www.washingtonpost.com/politics/for-trump-and-his-team-a-time-to-be-serious-at-united-nations-debut/2017/09/16/f4b90446-9a47-11e7-b569-3360011663b4_story.html\n",
      "Tibo: Small\n",
      "Reane: Medium\n",
      "\n",
      "\n",
      "To what level is this about climate change? Small\n",
      "\n",
      "\n",
      "https://www.wsj.com/articles/biden-picks-north-carolina-regulator-michael-regan-to-lead-epa-11608229080\n",
      "Tibo: High\n",
      "Reane: Medium\n",
      "\n",
      "\n",
      "To what level is this about climate change? High\n",
      "\n",
      "\n",
      "https://www.wsj.com/articles/china-suspends-its-relaxation-of-wildlife-trade-ban-1542028975\n",
      "Tibo: Small\n",
      "Reane: Medium\n",
      "\n",
      "\n",
      "To what level is this about climate change? Small\n",
      "\n",
      "\n"
     ]
    }
   ],
   "source": [
    "for r in range(0, 22):\n",
    "    print(df[df[\"Final_Climate_Change_Level_Label\"] == \"TBD\"].reset_index(drop = True).loc[r][\"Link\"])\n",
    "    print(\"Tibo:\", df[df[\"Final_Climate_Change_Level_Label\"] == \"TBD\"].reset_index(drop = True).loc[r][\"Level_Climate_Change_Topic\"])\n",
    "    print(\"Reane:\", df[df[\"Final_Climate_Change_Level_Label\"] == \"TBD\"].reset_index(drop = True).loc[r][\"Level_Climate_Change_Topic_R\"])\n",
    "    \n",
    "    print(\"\\n\")\n",
    "    New_Labels_Tibo.append(input(\"To what level is this about climate change? \"))\n",
    "    print(\"\\n\")"
   ]
  },
  {
   "cell_type": "code",
   "execution_count": 97,
   "id": "cf8a6695",
   "metadata": {},
   "outputs": [
    {
     "data": {
      "text/plain": [
       "['Small',\n",
       " 'Small',\n",
       " 'Medium',\n",
       " 'Medium',\n",
       " 'Small',\n",
       " 'Medium',\n",
       " 'Small',\n",
       " 'Medium',\n",
       " 'Small',\n",
       " 'Medium',\n",
       " 'Small',\n",
       " 'Medium',\n",
       " 'Na',\n",
       " 'Small',\n",
       " 'Small',\n",
       " 'Medium',\n",
       " 'Medium',\n",
       " 'Small',\n",
       " 'Small',\n",
       " 'Small',\n",
       " 'High',\n",
       " 'Small']"
      ]
     },
     "execution_count": 97,
     "metadata": {},
     "output_type": "execute_result"
    }
   ],
   "source": [
    "New_Labels_Tibo"
   ]
  },
  {
   "cell_type": "code",
   "execution_count": 100,
   "id": "9ed5ed36",
   "metadata": {},
   "outputs": [],
   "source": [
    "#Where Reane has Small and Tibo NA we change the Na to Small\n",
    "df.loc[df[\"Final_Climate_Change_Level_Label\"] == \"TBD\", \"Final_Climate_Change_Level_Label\"] = New_Labels_Tibo"
   ]
  },
  {
   "cell_type": "code",
   "execution_count": 108,
   "id": "a555b8ff",
   "metadata": {},
   "outputs": [
    {
     "ename": "KeyError",
     "evalue": "'Final_Climate_Change_Level_Label'",
     "output_type": "error",
     "traceback": [
      "\u001b[1;31m---------------------------------------------------------------------------\u001b[0m",
      "\u001b[1;31mKeyError\u001b[0m                                  Traceback (most recent call last)",
      "\u001b[1;32m<ipython-input-108-b6fc22874889>\u001b[0m in \u001b[0;36m<module>\u001b[1;34m\u001b[0m\n\u001b[1;32m----> 1\u001b[1;33m \u001b[0mdf\u001b[0m\u001b[1;33m.\u001b[0m\u001b[0mgroupby\u001b[0m\u001b[1;33m(\u001b[0m\u001b[1;34m\"Final_Climate_Change_Level_Label\"\u001b[0m\u001b[1;33m)\u001b[0m\u001b[1;33m[\u001b[0m\u001b[1;34m\"Final_Climate_Change_Level_Label\"\u001b[0m\u001b[1;33m]\u001b[0m\u001b[1;33m.\u001b[0m\u001b[0mcount\u001b[0m\u001b[1;33m(\u001b[0m\u001b[1;33m)\u001b[0m\u001b[1;33m\u001b[0m\u001b[1;33m\u001b[0m\u001b[0m\n\u001b[0m",
      "\u001b[1;32m~\\anaconda3\\lib\\site-packages\\pandas\\core\\frame.py\u001b[0m in \u001b[0;36mgroupby\u001b[1;34m(self, by, axis, level, as_index, sort, group_keys, squeeze, observed, dropna)\u001b[0m\n\u001b[0;32m   6715\u001b[0m         \u001b[0maxis\u001b[0m \u001b[1;33m=\u001b[0m \u001b[0mself\u001b[0m\u001b[1;33m.\u001b[0m\u001b[0m_get_axis_number\u001b[0m\u001b[1;33m(\u001b[0m\u001b[0maxis\u001b[0m\u001b[1;33m)\u001b[0m\u001b[1;33m\u001b[0m\u001b[1;33m\u001b[0m\u001b[0m\n\u001b[0;32m   6716\u001b[0m \u001b[1;33m\u001b[0m\u001b[0m\n\u001b[1;32m-> 6717\u001b[1;33m         return DataFrameGroupBy(\n\u001b[0m\u001b[0;32m   6718\u001b[0m             \u001b[0mobj\u001b[0m\u001b[1;33m=\u001b[0m\u001b[0mself\u001b[0m\u001b[1;33m,\u001b[0m\u001b[1;33m\u001b[0m\u001b[1;33m\u001b[0m\u001b[0m\n\u001b[0;32m   6719\u001b[0m             \u001b[0mkeys\u001b[0m\u001b[1;33m=\u001b[0m\u001b[0mby\u001b[0m\u001b[1;33m,\u001b[0m\u001b[1;33m\u001b[0m\u001b[1;33m\u001b[0m\u001b[0m\n",
      "\u001b[1;32m~\\anaconda3\\lib\\site-packages\\pandas\\core\\groupby\\groupby.py\u001b[0m in \u001b[0;36m__init__\u001b[1;34m(self, obj, keys, axis, level, grouper, exclusions, selection, as_index, sort, group_keys, squeeze, observed, mutated, dropna)\u001b[0m\n\u001b[0;32m    558\u001b[0m             \u001b[1;32mfrom\u001b[0m \u001b[0mpandas\u001b[0m\u001b[1;33m.\u001b[0m\u001b[0mcore\u001b[0m\u001b[1;33m.\u001b[0m\u001b[0mgroupby\u001b[0m\u001b[1;33m.\u001b[0m\u001b[0mgrouper\u001b[0m \u001b[1;32mimport\u001b[0m \u001b[0mget_grouper\u001b[0m\u001b[1;33m\u001b[0m\u001b[1;33m\u001b[0m\u001b[0m\n\u001b[0;32m    559\u001b[0m \u001b[1;33m\u001b[0m\u001b[0m\n\u001b[1;32m--> 560\u001b[1;33m             grouper, exclusions, obj = get_grouper(\n\u001b[0m\u001b[0;32m    561\u001b[0m                 \u001b[0mobj\u001b[0m\u001b[1;33m,\u001b[0m\u001b[1;33m\u001b[0m\u001b[1;33m\u001b[0m\u001b[0m\n\u001b[0;32m    562\u001b[0m                 \u001b[0mkeys\u001b[0m\u001b[1;33m,\u001b[0m\u001b[1;33m\u001b[0m\u001b[1;33m\u001b[0m\u001b[0m\n",
      "\u001b[1;32m~\\anaconda3\\lib\\site-packages\\pandas\\core\\groupby\\grouper.py\u001b[0m in \u001b[0;36mget_grouper\u001b[1;34m(obj, key, axis, level, sort, observed, mutated, validate, dropna)\u001b[0m\n\u001b[0;32m    809\u001b[0m                 \u001b[0min_axis\u001b[0m\u001b[1;33m,\u001b[0m \u001b[0mname\u001b[0m\u001b[1;33m,\u001b[0m \u001b[0mlevel\u001b[0m\u001b[1;33m,\u001b[0m \u001b[0mgpr\u001b[0m \u001b[1;33m=\u001b[0m \u001b[1;32mFalse\u001b[0m\u001b[1;33m,\u001b[0m \u001b[1;32mNone\u001b[0m\u001b[1;33m,\u001b[0m \u001b[0mgpr\u001b[0m\u001b[1;33m,\u001b[0m \u001b[1;32mNone\u001b[0m\u001b[1;33m\u001b[0m\u001b[1;33m\u001b[0m\u001b[0m\n\u001b[0;32m    810\u001b[0m             \u001b[1;32melse\u001b[0m\u001b[1;33m:\u001b[0m\u001b[1;33m\u001b[0m\u001b[1;33m\u001b[0m\u001b[0m\n\u001b[1;32m--> 811\u001b[1;33m                 \u001b[1;32mraise\u001b[0m \u001b[0mKeyError\u001b[0m\u001b[1;33m(\u001b[0m\u001b[0mgpr\u001b[0m\u001b[1;33m)\u001b[0m\u001b[1;33m\u001b[0m\u001b[1;33m\u001b[0m\u001b[0m\n\u001b[0m\u001b[0;32m    812\u001b[0m         \u001b[1;32melif\u001b[0m \u001b[0misinstance\u001b[0m\u001b[1;33m(\u001b[0m\u001b[0mgpr\u001b[0m\u001b[1;33m,\u001b[0m \u001b[0mGrouper\u001b[0m\u001b[1;33m)\u001b[0m \u001b[1;32mand\u001b[0m \u001b[0mgpr\u001b[0m\u001b[1;33m.\u001b[0m\u001b[0mkey\u001b[0m \u001b[1;32mis\u001b[0m \u001b[1;32mnot\u001b[0m \u001b[1;32mNone\u001b[0m\u001b[1;33m:\u001b[0m\u001b[1;33m\u001b[0m\u001b[1;33m\u001b[0m\u001b[0m\n\u001b[0;32m    813\u001b[0m             \u001b[1;31m# Add key to exclusions\u001b[0m\u001b[1;33m\u001b[0m\u001b[1;33m\u001b[0m\u001b[1;33m\u001b[0m\u001b[0m\n",
      "\u001b[1;31mKeyError\u001b[0m: 'Final_Climate_Change_Level_Label'"
     ]
    }
   ],
   "source": [
    "df.groupby(\"Final_Climate_Change_Level_Label\")[\"Final_Climate_Change_Level_Label\"].count()"
   ]
  }
 ],
 "metadata": {
  "kernelspec": {
   "display_name": "Python 3",
   "language": "python",
   "name": "python3"
  },
  "language_info": {
   "codemirror_mode": {
    "name": "ipython",
    "version": 3
   },
   "file_extension": ".py",
   "mimetype": "text/x-python",
   "name": "python",
   "nbconvert_exporter": "python",
   "pygments_lexer": "ipython3",
   "version": "3.8.8"
  }
 },
 "nbformat": 4,
 "nbformat_minor": 5
}
