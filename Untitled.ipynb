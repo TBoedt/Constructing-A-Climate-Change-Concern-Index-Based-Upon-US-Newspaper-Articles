{
 "cells": [
  {
   "cell_type": "markdown",
   "id": "ea23a7dd",
   "metadata": {},
   "source": [
    "# 0. Import Packages"
   ]
  },
  {
   "cell_type": "code",
   "execution_count": 1,
   "id": "00697245",
   "metadata": {},
   "outputs": [],
   "source": [
    "from selenium import webdriver\n",
    "from selenium.webdriver.common.keys import Keys\n",
    "from selenium.webdriver.common.by import By\n",
    "from selenium.webdriver.support import expected_conditions as EC\n",
    "from selenium.webdriver.support.wait import WebDriverWait\n",
    "from selenium.webdriver.common.action_chains import ActionChains\n",
    "from selenium.webdriver.chrome.options import Options\n",
    "import time\n",
    "import re\n",
    "import pandas as pd\n",
    "from datetime import datetime\n",
    "from datetime import date\n",
    "from datetime import date, timedelta\n",
    "import random\n",
    "import threading\n",
    "import multiprocessing as np\n",
    "from multiprocessing import Pool\n",
    "import concurrent.futures\n",
    "import os"
   ]
  },
  {
   "cell_type": "code",
   "execution_count": 2,
   "id": "50e0dd1f",
   "metadata": {},
   "outputs": [],
   "source": [
    "def daterange(start_date, end_date):\n",
    "    for n in range(int((end_date - start_date).days) + 1):\n",
    "        yield start_date + timedelta(n)"
   ]
  },
  {
   "cell_type": "code",
   "execution_count": 23,
   "id": "1860d51e",
   "metadata": {},
   "outputs": [
    {
     "name": "stdout",
     "output_type": "stream",
     "text": [
      "accepted\n",
      "--- 14.265460014343262 seconds ---\n"
     ]
    }
   ],
   "source": [
    "\n",
    "WSJ_article_content = []\n",
    "WSJ_title = []\n",
    "Link = [\"http://www.wsj.com/articles/bow-river-invests-in-railpros-1483984187\"]\n",
    "\n",
    "#FIREFOX\n",
    "#Declare the driver and go to website\n",
    "#fireFoxOptions = webdriver.FirefoxOptions()\n",
    "#fireFoxOptions.add_argument('--ignore-certificate-errors')\n",
    "#fireFoxOptions.add_argument('--allow-running-insecure-content')\n",
    "#fireFoxOptions.add_argument(\"--headless\")\n",
    "#fireFoxOptions.add_argument(\"--disable-gpu\")\n",
    "#fireFoxOptions.add_argument(\"--no-sandbox\")\n",
    "#user_agent = 'Mozilla/5.0 (X11; Linux x86_64) AppleWebKit/537.36 (KHTML, like Gecko) Chrome/60.0.3112.50 Safari/537.36'\n",
    "#fireFoxOptions.add_argument(f'user-agent={user_agent}')\n",
    "#driver_WSJ = webdriver.Firefox(options=fireFoxOptions)\n",
    "\n",
    "#CHROME\n",
    "driver_WSJ = webdriver.Chrome()\n",
    "driver_WSJ.get(\"https://sso.accounts.dowjones.com/login-page?op=localop&scope=openid%20idp_id%20roles%20email%20given_name%20family_name%20djid%20djUsername%20djStatus%20trackid%20tags%20prts%20suuid%20updated_at&client_id=5hssEAdMy0mJTICnJNvC9TXEw3Va7jfO&response_type=code&redirect_uri=https%3A%2F%2Faccounts.wsj.com%2Fauth%2Fsso%2Flogin&nonce=5e93fe71-314a-44b9-bb2d-4a0e5a3167a4&ui_locales=en-us-x-wsj-223-2&mars=-1&ns=prod%2Faccounts-wsj&state=zJgHWictetlLHLG6.Uob1DvxnFA4kIkiqJAY80zp2N4FxS3WdBvV-VuTFdpM&protocol=oauth2&client=5hssEAdMy0mJTICnJNvC9TXEw3Va7jfO#!/signin\")\n",
    "\n",
    "#put in user_name:\n",
    "time.sleep(3) #makes sure field is fully loaded\n",
    "username_field = driver_WSJ.find_element(By.XPATH, \"/html/body/div[1]/div[2]/div/div/div/div[1]/div[1]/form/div[2]/div[1]/div[2]/input\")\n",
    "username_field.send_keys(\"reane.delaunoy@telenet.be\")\n",
    "\n",
    "#continue to password:\n",
    "driver_WSJ.find_element(By.XPATH, \"/html/body/div[1]/div[2]/div/div/div/div[1]/div[1]/form/div[2]/div[6]/div[1]/button[2]\").click()\n",
    "\n",
    "#input password:\n",
    "time.sleep(3) #makes sure field is fully loaded\n",
    "password_field = driver_WSJ.find_element(By.XPATH, \"//*[@id='password-login-password']\")\n",
    "password_field.send_keys(\"REenJUC0MB0\")\n",
    "\n",
    "#click on sign in:\n",
    "driver_WSJ.find_element(By.XPATH, \"//*[@id='password-login']/div/form/div/div[5]/div[1]/button\").click()\n",
    "\n",
    "try:\n",
    "    #accept cookies\n",
    "    time.sleep(20)\n",
    "    driver_WSJ.switch_to.default_content()\n",
    "    driver_WSJ.switch_to.frame(WebDriverWait(driver_WSJ,30).until(EC.presence_of_element_located((By.ID, 'sp_message_iframe_718122'))))\n",
    "    driver_WSJ.find_element(By.CSS_SELECTOR, \"button.message-component:nth-child(2)\").click()\n",
    "    print(\"accepted\")\n",
    "    time.sleep(3)\n",
    "except:\n",
    "    pass\n",
    "\n",
    "scrape_time = time.time()\n",
    "#go to all the articles and scrape the content\n",
    "for u in range(0, len(Link)):\n",
    "    trys = 0\n",
    "    while(trys < 1):\n",
    "        try:\n",
    "            driver_WSJ.get(Link[u])\n",
    "            break\n",
    "        except:\n",
    "            trys += 1\n",
    "            time.sleep(10)\n",
    "\n",
    "    try:\n",
    "        content = driver_WSJ.find_element(By.TAG_NAME, 'article') \n",
    "        #extract the content and add to a variables\n",
    "        text = content.find_elements(By.TAG_NAME, 'p')\n",
    "        article_text = \"\"\n",
    "        for t in range(0,len(text)):\n",
    "            article_text += \" \" + text[t].text\n",
    "\n",
    "        WSJ_article_content.append(article_text) #add text to the list\n",
    "        #WSJ_article_content.append(content.text) #add text to the list\n",
    "\n",
    "    except: #we don't have access to the article\n",
    "        WSJ_article_content.append(\"NO ACCESS\")\n",
    "        pass #go back to page with all articles\n",
    "\n",
    "    try:\n",
    "        #collect the title as well\n",
    "        title = WebDriverWait(driver_WSJ,10).until(EC.presence_of_element_located((By.TAG_NAME, \"h1\"))).text\n",
    "        WSJ_title.append(title)\n",
    "    except:\n",
    "        try:\n",
    "            #there are 2 main formats in which the titles are present in the HTML\n",
    "            title = WebDriverWait(driver_WSJ,10).until(EC.presence_of_element_located((By.CLASS_NAME, \"bigTop__hed\"))).text\n",
    "            WSJ_title.append(title)\n",
    "\n",
    "        except:\n",
    "            #add error if there is some unexpected layout -> this way our arrays will be of the same length and we will be able\n",
    "            #to construct a dataframe in the end\n",
    "            WSJ_title.append(\"ERROR\")\n",
    "            pass\n",
    "\n",
    "driver_WSJ.quit()\n",
    "\n",
    "data = {\"Title\" : WSJ_title, \"Text\" : WSJ_article_content, \"Link\" : Link}\n",
    "Wall_Street_Journal = pd.DataFrame(data)\n",
    "\n",
    "print(\"--- %s seconds ---\" % (time.time() - scrape_time))\n",
    "\n"
   ]
  },
  {
   "cell_type": "code",
   "execution_count": 37,
   "id": "cefc5c18",
   "metadata": {},
   "outputs": [
    {
     "data": {
      "text/plain": [
       "['Bow River Invests in RailPros']"
      ]
     },
     "execution_count": 37,
     "metadata": {},
     "output_type": "execute_result"
    }
   ],
   "source": [
    "list(Wall_Street_Journal['Title'])"
   ]
  },
  {
   "cell_type": "code",
   "execution_count": 36,
   "id": "0228a091",
   "metadata": {},
   "outputs": [
    {
     "data": {
      "text/plain": [
       "0    5\n",
       "Name: Title, dtype: int64"
      ]
     },
     "execution_count": 36,
     "metadata": {},
     "output_type": "execute_result"
    }
   ],
   "source": [
    "Wall_Street_Journal['Title'].apply(lambda x: len(x.split()))"
   ]
  },
  {
   "cell_type": "code",
   "execution_count": 30,
   "id": "562ebe68",
   "metadata": {},
   "outputs": [],
   "source": [
    "df = pd.DataFrame({\"Title\": [\"Tibo\"], \"Text\" : list(Wall_Street_Journal[\"Text\"])})"
   ]
  },
  {
   "cell_type": "code",
   "execution_count": 31,
   "id": "81c46931",
   "metadata": {},
   "outputs": [
    {
     "data": {
      "text/html": [
       "<div>\n",
       "<style scoped>\n",
       "    .dataframe tbody tr th:only-of-type {\n",
       "        vertical-align: middle;\n",
       "    }\n",
       "\n",
       "    .dataframe tbody tr th {\n",
       "        vertical-align: top;\n",
       "    }\n",
       "\n",
       "    .dataframe thead th {\n",
       "        text-align: right;\n",
       "    }\n",
       "</style>\n",
       "<table border=\"1\" class=\"dataframe\">\n",
       "  <thead>\n",
       "    <tr style=\"text-align: right;\">\n",
       "      <th></th>\n",
       "      <th>Title</th>\n",
       "      <th>Text</th>\n",
       "    </tr>\n",
       "  </thead>\n",
       "  <tbody>\n",
       "    <tr>\n",
       "      <th>0</th>\n",
       "      <td>Tibo</td>\n",
       "      <td>Bow River Capital Partners made an investment...</td>\n",
       "    </tr>\n",
       "  </tbody>\n",
       "</table>\n",
       "</div>"
      ],
      "text/plain": [
       "  Title                                               Text\n",
       "0  Tibo   Bow River Capital Partners made an investment..."
      ]
     },
     "execution_count": 31,
     "metadata": {},
     "output_type": "execute_result"
    }
   ],
   "source": [
    "df.sort_values(by='Text', key=lambda x: x.str.len(), ascending=False).drop_duplicates(subset=[\"Title\"], keep='first')"
   ]
  }
 ],
 "metadata": {
  "kernelspec": {
   "display_name": "Python 3",
   "language": "python",
   "name": "python3"
  },
  "language_info": {
   "codemirror_mode": {
    "name": "ipython",
    "version": 3
   },
   "file_extension": ".py",
   "mimetype": "text/x-python",
   "name": "python",
   "nbconvert_exporter": "python",
   "pygments_lexer": "ipython3",
   "version": "3.8.8"
  }
 },
 "nbformat": 4,
 "nbformat_minor": 5
}
