{
 "cells": [
  {
   "cell_type": "markdown",
   "id": "549a3d8c",
   "metadata": {},
   "source": [
    "# 0. Packages and Functions"
   ]
  },
  {
   "cell_type": "markdown",
   "id": "b7567ca2",
   "metadata": {},
   "source": [
    "## 0.1. Packages"
   ]
  },
  {
   "cell_type": "code",
   "execution_count": 28,
   "id": "57bd2f04",
   "metadata": {},
   "outputs": [],
   "source": [
    "import pandas as pd\n",
    "import string\n",
    "from nltk import ngrams\n",
    "from collections import Counter\n",
    "from sklearn.metrics import classification_report, confusion_matrix"
   ]
  },
  {
   "cell_type": "markdown",
   "id": "be0aaaa2",
   "metadata": {},
   "source": [
    "## 0.2. Functions"
   ]
  },
  {
   "cell_type": "code",
   "execution_count": 29,
   "id": "7ce24a2d",
   "metadata": {},
   "outputs": [],
   "source": [
    "#pre-process text for lexicon based approaches\n",
    "def preprocess_text(text):\n",
    "    # remove punctuation\n",
    "    text = text.translate(str.maketrans('', '', string.punctuation))\n",
    "    # convert to lower case\n",
    "    text = text.lower()\n",
    "    # remove blank spaces\n",
    "    text = ' '.join(text.split())\n",
    "    # remove newline characters\n",
    "    text = text.replace('\\n', '')\n",
    "    return text"
   ]
  },
  {
   "cell_type": "code",
   "execution_count": 30,
   "id": "9c3ca9fb",
   "metadata": {},
   "outputs": [],
   "source": [
    "#Create function that take the dataframe, lexicon and n-gram value (how many n-grams should be considered) and determine the \n",
    "#count of words in dataframe text that match the lexicon\n",
    "def count_lexicon_words(text_df, lexicon):\n",
    "    lexicon = lexicon[\"Lexicon\"]\n",
    "    count = []\n",
    "    \n",
    "    for text in text_df[\"Text\"]:\n",
    "        lexicon_matches = 0\n",
    "    \n",
    "        for word in lexicon:\n",
    "            if word.lower() in text:\n",
    "                lexicon_matches += 1\n",
    "        \n",
    "        count.append(lexicon_matches)\n",
    "        \n",
    "    text_df[\"Lexicon Count\"] = count\n",
    "    \n",
    "    return(text_df)\n",
    "\n",
    "#create a function that used the lexicon approach to determine with the target is yes or no\n",
    "def lexicon_target_classifier(df, treshold):\n",
    "    target = []\n",
    "    \n",
    "    count = df[\"Lexicon Count\"]\n",
    "    \n",
    "    for c in count:\n",
    "        if c < treshold:\n",
    "            target.append(\"No\")\n",
    "        else:\n",
    "            target.append(\"Yes\")\n",
    "            \n",
    "    df[\"Target Lexicon\"] = target\n",
    "    return(df)\n",
    "\n",
    "#Combine both functions to classify articles based on the lexicon\n",
    "def lexicon_climate_classifier(text_df, lexicon, treshold):\n",
    "    df = count_lexicon_words(text_df, lexicon)\n",
    "    \n",
    "    return(lexicon_target_classifier(df, treshold))\n",
    "\n",
    "def threshold_metrics(df_text, lexicon, min_treshhold, max_treshhold):\n",
    "    for i in range(min_treshhold, max_treshhold + 1):\n",
    "        df = lexicon_climate_classifier(df_text, lexicon, i)\n",
    "        cross_table = pd.crosstab(df['Target'], df['Target Lexicon'], margins=True)\n",
    "        \n",
    "        # calculate classification metrics using scikit-learn\n",
    "        accuracy = (cross_table.iloc[0,0] + cross_table.iloc[1,1]) / cross_table.loc['All','All']\n",
    "        precision = cross_table.iloc[1,1] / cross_table.iloc[0,1] if cross_table.iloc[0,1] != 0 else 0\n",
    "        recall = cross_table.iloc[1,1] / cross_table.iloc[1,0] if cross_table.iloc[1,0] != 0 else 0\n",
    "        f1_score = 2 * (precision * recall) / (precision + recall) if (precision + recall) != 0 else 0\n",
    "\n",
    "        # print the metrics\n",
    "        print(\"Threshhold:\", i)\n",
    "        print(\"Accuracy:\", accuracy)\n",
    "        print(\"Precision:\", precision)\n",
    "        print(\"Recall:\", recall)\n",
    "        print(\"F1 score:\", f1_score)\n",
    "        print(\"\\n\")\n"
   ]
  },
  {
   "cell_type": "markdown",
   "id": "358383a2",
   "metadata": {},
   "source": [
    "Accuracy: This metric measures the overall performance of a model. It is defined as the number of correct predictions divided by the total number of predictions. Accuracy is a good metric to use when the classes are roughly balanced, meaning there are about the same number of positive and negative examples in the dataset.\n",
    "\n",
    "Precision: This metric measures how many of the positive predictions made by a model are actually correct. It is defined as the number of true positives divided by the total number of positive predictions. Precision is a good metric to use when we care more about avoiding false positives than false negatives.\n",
    "\n",
    "Recall: This metric measures how many of the positive examples in the dataset are correctly predicted by the model. It is defined as the number of true positives divided by the total number of actual positive examples. Recall is a good metric to use when we care more about avoiding false negatives than false positives.\n",
    "\n",
    "F1 score: This metric is a weighted average of precision and recall, where the weight is determined by the beta parameter. The most common value for beta is 1, which gives equal weight to precision and recall. The F1 score is a good metric to use when we want to balance precision and recall, and when the classes are imbalanced."
   ]
  },
  {
   "cell_type": "markdown",
   "id": "bbc10b67",
   "metadata": {},
   "source": [
    "# 1. Import Label Dataset"
   ]
  },
  {
   "cell_type": "code",
   "execution_count": 31,
   "id": "6b08d6bd",
   "metadata": {},
   "outputs": [
    {
     "data": {
      "text/html": [
       "<div>\n",
       "<style scoped>\n",
       "    .dataframe tbody tr th:only-of-type {\n",
       "        vertical-align: middle;\n",
       "    }\n",
       "\n",
       "    .dataframe tbody tr th {\n",
       "        vertical-align: top;\n",
       "    }\n",
       "\n",
       "    .dataframe thead th {\n",
       "        text-align: right;\n",
       "    }\n",
       "</style>\n",
       "<table border=\"1\" class=\"dataframe\">\n",
       "  <thead>\n",
       "    <tr style=\"text-align: right;\">\n",
       "      <th></th>\n",
       "      <th>Text</th>\n",
       "      <th>Link</th>\n",
       "      <th>Is_climate</th>\n",
       "      <th>Sentiment_Label</th>\n",
       "      <th>Climate_Change_Topic</th>\n",
       "      <th>Level_Climate_Change_Topic</th>\n",
       "      <th>doubt</th>\n",
       "      <th>Sentiment_Label_R</th>\n",
       "      <th>Climate_Change_Topic_R</th>\n",
       "      <th>Level_Climate_Change_Topic_R</th>\n",
       "    </tr>\n",
       "  </thead>\n",
       "  <tbody>\n",
       "    <tr>\n",
       "      <th>0</th>\n",
       "      <td>More than a dozen state attorneys general gath...</td>\n",
       "      <td>https://www.washingtonpost.com/news/energy-env...</td>\n",
       "      <td>True</td>\n",
       "      <td>1</td>\n",
       "      <td>Yes</td>\n",
       "      <td>Medium</td>\n",
       "      <td>False</td>\n",
       "      <td>TBD</td>\n",
       "      <td>TBD</td>\n",
       "      <td>TBD</td>\n",
       "    </tr>\n",
       "    <tr>\n",
       "      <th>1</th>\n",
       "      <td>Sen. Jeff Merkley of Oregon endorsed Bernie S...</td>\n",
       "      <td>http://www.wsj.com/articles/campaign-wire-1460...</td>\n",
       "      <td>True</td>\n",
       "      <td>0</td>\n",
       "      <td>Yes</td>\n",
       "      <td>Small</td>\n",
       "      <td>False</td>\n",
       "      <td>TBD</td>\n",
       "      <td>TBD</td>\n",
       "      <td>TBD</td>\n",
       "    </tr>\n",
       "    <tr>\n",
       "      <th>2</th>\n",
       "      <td>When Carmen Luna moved to a neighborhood on t...</td>\n",
       "      <td>https://www.wsj.com/articles/mexico-city-strug...</td>\n",
       "      <td>True</td>\n",
       "      <td>-1</td>\n",
       "      <td>Yes</td>\n",
       "      <td>Medium</td>\n",
       "      <td>False</td>\n",
       "      <td>TBD</td>\n",
       "      <td>TBD</td>\n",
       "      <td>TBD</td>\n",
       "    </tr>\n",
       "    <tr>\n",
       "      <th>3</th>\n",
       "      <td>As ocean warming continues to trigger widespre...</td>\n",
       "      <td>https://www.washingtonpost.com/national/health...</td>\n",
       "      <td>True</td>\n",
       "      <td>1</td>\n",
       "      <td>Yes</td>\n",
       "      <td>High</td>\n",
       "      <td>False</td>\n",
       "      <td>TBD</td>\n",
       "      <td>TBD</td>\n",
       "      <td>TBD</td>\n",
       "    </tr>\n",
       "    <tr>\n",
       "      <th>4</th>\n",
       "      <td>PG&amp;E Corp. told California regulators that it...</td>\n",
       "      <td>https://www.wsj.com/articles/pg-e-equipment-mi...</td>\n",
       "      <td>True</td>\n",
       "      <td>-1</td>\n",
       "      <td>Yes</td>\n",
       "      <td>Medium</td>\n",
       "      <td>False</td>\n",
       "      <td>TBD</td>\n",
       "      <td>TBD</td>\n",
       "      <td>TBD</td>\n",
       "    </tr>\n",
       "  </tbody>\n",
       "</table>\n",
       "</div>"
      ],
      "text/plain": [
       "                                                Text  \\\n",
       "0  More than a dozen state attorneys general gath...   \n",
       "1   Sen. Jeff Merkley of Oregon endorsed Bernie S...   \n",
       "2   When Carmen Luna moved to a neighborhood on t...   \n",
       "3  As ocean warming continues to trigger widespre...   \n",
       "4   PG&E Corp. told California regulators that it...   \n",
       "\n",
       "                                                Link  Is_climate  \\\n",
       "0  https://www.washingtonpost.com/news/energy-env...        True   \n",
       "1  http://www.wsj.com/articles/campaign-wire-1460...        True   \n",
       "2  https://www.wsj.com/articles/mexico-city-strug...        True   \n",
       "3  https://www.washingtonpost.com/national/health...        True   \n",
       "4  https://www.wsj.com/articles/pg-e-equipment-mi...        True   \n",
       "\n",
       "  Sentiment_Label Climate_Change_Topic Level_Climate_Change_Topic  doubt  \\\n",
       "0               1                  Yes                     Medium  False   \n",
       "1               0                  Yes                      Small  False   \n",
       "2              -1                  Yes                     Medium  False   \n",
       "3               1                  Yes                       High  False   \n",
       "4              -1                  Yes                     Medium  False   \n",
       "\n",
       "  Sentiment_Label_R Climate_Change_Topic_R Level_Climate_Change_Topic_R  \n",
       "0               TBD                    TBD                          TBD  \n",
       "1               TBD                    TBD                          TBD  \n",
       "2               TBD                    TBD                          TBD  \n",
       "3               TBD                    TBD                          TBD  \n",
       "4               TBD                    TBD                          TBD  "
      ]
     },
     "execution_count": 31,
     "metadata": {},
     "output_type": "execute_result"
    }
   ],
   "source": [
    "tag_climate_df = pd.read_parquet(\"Final_Label_Table.parquet\")\n",
    "tag_climate_df.head(5)"
   ]
  },
  {
   "cell_type": "code",
   "execution_count": 32,
   "id": "0c9d1d9e",
   "metadata": {},
   "outputs": [],
   "source": [
    "#Only keep the required columns\n",
    "tag_climate_df = tag_climate_df[[\"Text\", \"Climate_Change_Topic\", \"Level_Climate_Change_Topic\"]]"
   ]
  },
  {
   "cell_type": "code",
   "execution_count": 33,
   "id": "d2ee616f",
   "metadata": {},
   "outputs": [],
   "source": [
    "#Clean the tabel\n",
    "tag_climate_df['Level_Climate_Change_Topic'] = tag_climate_df['Level_Climate_Change_Topic'].str.strip()\n",
    "tag_climate_df[tag_climate_df[\"Level_Climate_Change_Topic\"] == \"NA\"] = \"Na\"\n",
    "tag_climate_df[tag_climate_df[\"Level_Climate_Change_Topic\"] == \"0\"] = \"Na\"\n",
    "tag_climate_df[\"Target\"] = tag_climate_df[\"Level_Climate_Change_Topic\"].apply(lambda x: \"Yes\" if x in [\"High\", \"Medium\"] else \"No\")"
   ]
  },
  {
   "cell_type": "code",
   "execution_count": 34,
   "id": "add6c615",
   "metadata": {},
   "outputs": [],
   "source": [
    "overview_labels_hms = tag_climate_df.groupby(\"Level_Climate_Change_Topic\")[\"Text\"].count().reset_index()"
   ]
  },
  {
   "cell_type": "code",
   "execution_count": 35,
   "id": "2c689ff0",
   "metadata": {},
   "outputs": [
    {
     "data": {
      "text/html": [
       "<div>\n",
       "<style scoped>\n",
       "    .dataframe tbody tr th:only-of-type {\n",
       "        vertical-align: middle;\n",
       "    }\n",
       "\n",
       "    .dataframe tbody tr th {\n",
       "        vertical-align: top;\n",
       "    }\n",
       "\n",
       "    .dataframe thead th {\n",
       "        text-align: right;\n",
       "    }\n",
       "</style>\n",
       "<table border=\"1\" class=\"dataframe\">\n",
       "  <thead>\n",
       "    <tr style=\"text-align: right;\">\n",
       "      <th></th>\n",
       "      <th>Level_Climate_Change_Topic</th>\n",
       "      <th>Text</th>\n",
       "    </tr>\n",
       "  </thead>\n",
       "  <tbody>\n",
       "    <tr>\n",
       "      <th>0</th>\n",
       "      <td>High</td>\n",
       "      <td>71</td>\n",
       "    </tr>\n",
       "    <tr>\n",
       "      <th>1</th>\n",
       "      <td>Medium</td>\n",
       "      <td>32</td>\n",
       "    </tr>\n",
       "    <tr>\n",
       "      <th>2</th>\n",
       "      <td>Na</td>\n",
       "      <td>43</td>\n",
       "    </tr>\n",
       "    <tr>\n",
       "      <th>3</th>\n",
       "      <td>Small</td>\n",
       "      <td>55</td>\n",
       "    </tr>\n",
       "  </tbody>\n",
       "</table>\n",
       "</div>"
      ],
      "text/plain": [
       "  Level_Climate_Change_Topic  Text\n",
       "0                       High    71\n",
       "1                     Medium    32\n",
       "2                         Na    43\n",
       "3                      Small    55"
      ]
     },
     "execution_count": 35,
     "metadata": {},
     "output_type": "execute_result"
    }
   ],
   "source": [
    "overview_labels_hms"
   ]
  },
  {
   "cell_type": "code",
   "execution_count": 36,
   "id": "be23a6bf",
   "metadata": {},
   "outputs": [],
   "source": [
    "overview_labels = tag_climate_df.groupby(\"Target\")[\"Text\"].count().reset_index()"
   ]
  },
  {
   "cell_type": "code",
   "execution_count": 37,
   "id": "86308d5d",
   "metadata": {},
   "outputs": [
    {
     "data": {
      "text/html": [
       "<div>\n",
       "<style scoped>\n",
       "    .dataframe tbody tr th:only-of-type {\n",
       "        vertical-align: middle;\n",
       "    }\n",
       "\n",
       "    .dataframe tbody tr th {\n",
       "        vertical-align: top;\n",
       "    }\n",
       "\n",
       "    .dataframe thead th {\n",
       "        text-align: right;\n",
       "    }\n",
       "</style>\n",
       "<table border=\"1\" class=\"dataframe\">\n",
       "  <thead>\n",
       "    <tr style=\"text-align: right;\">\n",
       "      <th></th>\n",
       "      <th>Target</th>\n",
       "      <th>Text</th>\n",
       "    </tr>\n",
       "  </thead>\n",
       "  <tbody>\n",
       "    <tr>\n",
       "      <th>0</th>\n",
       "      <td>No</td>\n",
       "      <td>98</td>\n",
       "    </tr>\n",
       "    <tr>\n",
       "      <th>1</th>\n",
       "      <td>Yes</td>\n",
       "      <td>103</td>\n",
       "    </tr>\n",
       "  </tbody>\n",
       "</table>\n",
       "</div>"
      ],
      "text/plain": [
       "  Target  Text\n",
       "0     No    98\n",
       "1    Yes   103"
      ]
     },
     "execution_count": 37,
     "metadata": {},
     "output_type": "execute_result"
    }
   ],
   "source": [
    "overview_labels"
   ]
  },
  {
   "cell_type": "code",
   "execution_count": null,
   "id": "acf33a73",
   "metadata": {},
   "outputs": [],
   "source": [
    "#overview_labels_hms.to_csv(\"C:/Users/Boedt/OneDrive/Bureaublad/R Thesis/overview_tag_labels_hms\", index = False)\n",
    "#overview_labels.to_csv(\"C:/Users/Boedt/OneDrive/Bureaublad/R Thesis/overview_tag_labels\", index = False)"
   ]
  },
  {
   "cell_type": "markdown",
   "id": "516660b2",
   "metadata": {},
   "source": [
    "# 2. Taggers"
   ]
  },
  {
   "cell_type": "markdown",
   "id": "31249337",
   "metadata": {},
   "source": [
    "## 2.1. Tagger 1 - Global Change Lexicon"
   ]
  },
  {
   "cell_type": "markdown",
   "id": "d4c15452",
   "metadata": {},
   "source": [
    "Uitleg"
   ]
  },
  {
   "cell_type": "code",
   "execution_count": null,
   "id": "81b853e2",
   "metadata": {},
   "outputs": [],
   "source": [
    "#Store the dataframe in a different one, for the purpose of this lexicon. This way there is no confusion.\n",
    "tag1_Global_Change = tag_climate_df"
   ]
  },
  {
   "cell_type": "code",
   "execution_count": null,
   "id": "54704fcd",
   "metadata": {},
   "outputs": [],
   "source": [
    "#Load the lexicon\n",
    "Global_Change_Lexicon = pd.read_excel('lexicons-used.xlsx', sheet_name = \"Global Change\", header = None)\n",
    "Global_Change_Lexicon.columns = [\"Lexicon\"]"
   ]
  },
  {
   "cell_type": "code",
   "execution_count": null,
   "id": "befe43ab",
   "metadata": {},
   "outputs": [],
   "source": [
    "#Clean the text\n",
    "tag1_Global_Change[\"Text\"] = tag1_Global_Change[\"Text\"].apply(preprocess_text)"
   ]
  },
  {
   "cell_type": "code",
   "execution_count": null,
   "id": "26b46de6",
   "metadata": {},
   "outputs": [],
   "source": [
    "threshold_metrics(tag1_Global_Change, Global_Change_Lexicon, 1, 8)"
   ]
  },
  {
   "cell_type": "markdown",
   "id": "7d26ff50",
   "metadata": {},
   "source": [
    "## 2.2. Tagger 2 - IPCC Lexicon"
   ]
  },
  {
   "cell_type": "markdown",
   "id": "800c5ab8",
   "metadata": {},
   "source": [
    "Uitleg"
   ]
  },
  {
   "cell_type": "code",
   "execution_count": null,
   "id": "1104c38d",
   "metadata": {},
   "outputs": [],
   "source": [
    "#Store the dataframe in a different one, for the purpose of this lexicon. This way there is no confusion.\n",
    "tag2_IPCC = tag_climate_df"
   ]
  },
  {
   "cell_type": "code",
   "execution_count": null,
   "id": "c41bb7fd",
   "metadata": {},
   "outputs": [],
   "source": [
    "#Load the lexicon\n",
    "IPCC_Lexicon = pd.read_excel('lexicons-used.xlsx', sheet_name = \"IPCC\", header = None)\n",
    "IPCC_Lexicon.columns = [\"Lexicon\"]\n",
    "\n",
    "IPCC_Lexicon"
   ]
  },
  {
   "cell_type": "code",
   "execution_count": null,
   "id": "0a672099",
   "metadata": {},
   "outputs": [],
   "source": [
    "#Clean the text\n",
    "tag2_IPCC[\"Text\"] = tag2_IPCC[\"Text\"].apply(preprocess_text)"
   ]
  },
  {
   "cell_type": "code",
   "execution_count": null,
   "id": "13ff11a0",
   "metadata": {},
   "outputs": [],
   "source": [
    "threshold_metrics(tag2_IPCC, IPCC_Lexicon, 1, 8)"
   ]
  },
  {
   "cell_type": "markdown",
   "id": "5bb16e34",
   "metadata": {},
   "source": [
    "## 2.3. Tagger 3 - Wikipedia Lexicon"
   ]
  },
  {
   "cell_type": "markdown",
   "id": "90610cf6",
   "metadata": {},
   "source": [
    "Uitleg"
   ]
  },
  {
   "cell_type": "code",
   "execution_count": 38,
   "id": "950e45ca",
   "metadata": {},
   "outputs": [],
   "source": [
    "#Store the dataframe in a different one, for the purpose of this lexicon. This way there is no confusion.\n",
    "tag3_Wikipedia = tag_climate_df"
   ]
  },
  {
   "cell_type": "code",
   "execution_count": 39,
   "id": "335d527b",
   "metadata": {},
   "outputs": [
    {
     "data": {
      "text/html": [
       "<div>\n",
       "<style scoped>\n",
       "    .dataframe tbody tr th:only-of-type {\n",
       "        vertical-align: middle;\n",
       "    }\n",
       "\n",
       "    .dataframe tbody tr th {\n",
       "        vertical-align: top;\n",
       "    }\n",
       "\n",
       "    .dataframe thead th {\n",
       "        text-align: right;\n",
       "    }\n",
       "</style>\n",
       "<table border=\"1\" class=\"dataframe\">\n",
       "  <thead>\n",
       "    <tr style=\"text-align: right;\">\n",
       "      <th></th>\n",
       "      <th>Lexicon</th>\n",
       "    </tr>\n",
       "  </thead>\n",
       "  <tbody>\n",
       "    <tr>\n",
       "      <th>0</th>\n",
       "      <td>100,000-year problem</td>\n",
       "    </tr>\n",
       "    <tr>\n",
       "      <th>1</th>\n",
       "      <td>adaptation</td>\n",
       "    </tr>\n",
       "    <tr>\n",
       "      <th>2</th>\n",
       "      <td>additionality</td>\n",
       "    </tr>\n",
       "    <tr>\n",
       "      <th>3</th>\n",
       "      <td>albedo</td>\n",
       "    </tr>\n",
       "    <tr>\n",
       "      <th>4</th>\n",
       "      <td>anoxic event</td>\n",
       "    </tr>\n",
       "    <tr>\n",
       "      <th>...</th>\n",
       "      <td>...</td>\n",
       "    </tr>\n",
       "    <tr>\n",
       "      <th>159</th>\n",
       "      <td>volcanism</td>\n",
       "    </tr>\n",
       "    <tr>\n",
       "      <th>160</th>\n",
       "      <td>water vapor</td>\n",
       "    </tr>\n",
       "    <tr>\n",
       "      <th>161</th>\n",
       "      <td>weather</td>\n",
       "    </tr>\n",
       "    <tr>\n",
       "      <th>162</th>\n",
       "      <td>World Climate Report</td>\n",
       "    </tr>\n",
       "    <tr>\n",
       "      <th>163</th>\n",
       "      <td>Younger Dryas</td>\n",
       "    </tr>\n",
       "  </tbody>\n",
       "</table>\n",
       "<p>164 rows × 1 columns</p>\n",
       "</div>"
      ],
      "text/plain": [
       "                  Lexicon\n",
       "0    100,000-year problem\n",
       "1              adaptation\n",
       "2           additionality\n",
       "3                  albedo\n",
       "4            anoxic event\n",
       "..                    ...\n",
       "159             volcanism\n",
       "160           water vapor\n",
       "161               weather\n",
       "162  World Climate Report\n",
       "163         Younger Dryas\n",
       "\n",
       "[164 rows x 1 columns]"
      ]
     },
     "execution_count": 39,
     "metadata": {},
     "output_type": "execute_result"
    }
   ],
   "source": [
    "#Load the lexicon\n",
    "Wikipedia_Lexicon = pd.read_excel('lexicons-used.xlsx', sheet_name = \"Wikipedia\", header = None)\n",
    "Wikipedia_Lexicon = pd.DataFrame(Wikipedia_Lexicon[0])\n",
    "Wikipedia_Lexicon.columns = [\"Lexicon\"]\n",
    "\n",
    "Wikipedia_Lexicon"
   ]
  },
  {
   "cell_type": "code",
   "execution_count": 40,
   "id": "c97d0c6c",
   "metadata": {},
   "outputs": [],
   "source": [
    "#Clean the text\n",
    "tag3_Wikipedia[\"Text\"] = tag3_Wikipedia[\"Text\"].apply(preprocess_text)"
   ]
  },
  {
   "cell_type": "code",
   "execution_count": 41,
   "id": "dfc1016e",
   "metadata": {},
   "outputs": [
    {
     "name": "stdout",
     "output_type": "stream",
     "text": [
      "Threshhold: 1\n",
      "Accuracy: 0.527363184079602\n",
      "Precision: 1.0842105263157895\n",
      "Recall: 0\n",
      "F1 score: 0.0\n",
      "\n",
      "\n",
      "Threshhold: 2\n",
      "Accuracy: 0.527363184079602\n",
      "Precision: 1.0842105263157895\n",
      "Recall: 0\n",
      "F1 score: 0.0\n",
      "\n",
      "\n",
      "Threshhold: 3\n",
      "Accuracy: 0.746268656716418\n",
      "Precision: 4.714285714285714\n",
      "Recall: 1.7837837837837838\n",
      "F1 score: 2.588235294117647\n",
      "\n",
      "\n",
      "Threshhold: 4\n",
      "Accuracy: 0.6567164179104478\n",
      "Precision: 18.0\n",
      "Recall: 0.5373134328358209\n",
      "F1 score: 1.0434782608695652\n",
      "\n",
      "\n",
      "Threshhold: 5\n",
      "Accuracy: 0.5671641791044776\n",
      "Precision: 17.0\n",
      "Recall: 0.19767441860465115\n",
      "F1 score: 0.3908045977011494\n",
      "\n",
      "\n",
      "Threshhold: 6\n",
      "Accuracy: 0.5174129353233831\n",
      "Precision: 0\n",
      "Recall: 0.061855670103092786\n",
      "F1 score: 0.0\n",
      "\n",
      "\n",
      "Threshhold: 7\n",
      "Accuracy: 0.4975124378109453\n",
      "Precision: 0\n",
      "Recall: 0.019801980198019802\n",
      "F1 score: 0.0\n",
      "\n",
      "\n",
      "Threshhold: 8\n",
      "Accuracy: 0.4975124378109453\n",
      "Precision: 0\n",
      "Recall: 0.019801980198019802\n",
      "F1 score: 0.0\n",
      "\n",
      "\n"
     ]
    }
   ],
   "source": [
    "threshold_metrics(tag3_Wikipedia, Wikipedia_Lexicon, 1, 8)"
   ]
  },
  {
   "cell_type": "markdown",
   "id": "f5c8a3be",
   "metadata": {},
   "source": [
    "## 2.4. Tagger 4 - Twitter Lexicon"
   ]
  },
  {
   "cell_type": "markdown",
   "id": "638f81be",
   "metadata": {},
   "source": [
    "Uitleg"
   ]
  },
  {
   "cell_type": "markdown",
   "id": "16f17fb2",
   "metadata": {},
   "source": [
    "## 2.5. Tagger 5 - Global Change Lexicon & IPCC Lexicon"
   ]
  },
  {
   "cell_type": "markdown",
   "id": "eda6d4c1",
   "metadata": {},
   "source": [
    "uitleg"
   ]
  },
  {
   "cell_type": "code",
   "execution_count": null,
   "id": "1f9935fe",
   "metadata": {},
   "outputs": [],
   "source": [
    "tag5_GC_IPCC = tag_climate_df"
   ]
  },
  {
   "cell_type": "code",
   "execution_count": null,
   "id": "4d39eee1",
   "metadata": {},
   "outputs": [],
   "source": [
    "#Load the lexicon\n",
    "l1 = pd.read_excel('lexicons-used.xlsx', sheet_name = \"Global Change\", header = None)\n",
    "l2 = pd.read_excel('lexicons-used.xlsx', sheet_name = \"IPCC\", header = None)\n",
    "\n",
    "GC_IPCC_Lexicon = pd.concat([l1, l2]).reset_index(drop = True)\n",
    "GC_IPCC_Lexicon = pd.DataFrame(GC_IPCC_Lexicon[0])\n",
    "GC_IPCC_Lexicon.columns = [\"Lexicon\"]\n",
    "\n",
    "GC_IPCC_Lexicon"
   ]
  },
  {
   "cell_type": "code",
   "execution_count": null,
   "id": "04af049a",
   "metadata": {},
   "outputs": [],
   "source": [
    "tag5_GC_IPCC[\"Text\"] = tag5_GC_IPCC[\"Text\"].apply(preprocess_text)"
   ]
  },
  {
   "cell_type": "code",
   "execution_count": null,
   "id": "66e742dc",
   "metadata": {},
   "outputs": [],
   "source": [
    "threshold_metrics(tag5_GC_IPCC, GC_IPCC_Lexicon, 1, 8)"
   ]
  },
  {
   "cell_type": "markdown",
   "id": "4ba42a11",
   "metadata": {},
   "source": [
    "## 2.6. Tagger 6 - Global Change Lexicon & Wikipedia Lexicon"
   ]
  },
  {
   "cell_type": "code",
   "execution_count": null,
   "id": "476b68be",
   "metadata": {},
   "outputs": [],
   "source": [
    "tag5_GC_W = tag_climate_df"
   ]
  },
  {
   "cell_type": "code",
   "execution_count": null,
   "id": "eab4a3cb",
   "metadata": {},
   "outputs": [],
   "source": [
    "#Load the lexicon\n",
    "l1 = pd.read_excel('lexicons-used.xlsx', sheet_name = \"Global Change\", header = None)\n",
    "l2 = pd.read_excel('lexicons-used.xlsx', sheet_name = \"Wikipedia\", header = None)\n",
    "\n",
    "GC_W_Lexicon = pd.concat([l1, l2]).reset_index(drop = True)\n",
    "GC_W_Lexicon = pd.DataFrame(GC_W_Lexicon[0])\n",
    "GC_W_Lexicon.columns = [\"Lexicon\"]\n",
    "\n",
    "GC_W_Lexicon"
   ]
  },
  {
   "cell_type": "code",
   "execution_count": null,
   "id": "c80d960b",
   "metadata": {},
   "outputs": [],
   "source": [
    "tag5_GC_W[\"Text\"] = tag5_GC_W[\"Text\"].apply(preprocess_text)"
   ]
  },
  {
   "cell_type": "code",
   "execution_count": null,
   "id": "61fa3cd0",
   "metadata": {},
   "outputs": [],
   "source": [
    "threshold_metrics(tag5_GC_W, GC_W_Lexicon, 1, 8)"
   ]
  },
  {
   "cell_type": "markdown",
   "id": "0a49d213",
   "metadata": {},
   "source": [
    "## 2.7. Tagger 7 - IPCC Lexicon & Wikipedia Lexicon"
   ]
  },
  {
   "cell_type": "markdown",
   "id": "ebebb7fd",
   "metadata": {},
   "source": [
    "Uitleg"
   ]
  },
  {
   "cell_type": "code",
   "execution_count": null,
   "id": "be682ff8",
   "metadata": {},
   "outputs": [],
   "source": [
    "tag5_IPCC_W = tag_climate_df"
   ]
  },
  {
   "cell_type": "code",
   "execution_count": null,
   "id": "9fa6ee7b",
   "metadata": {},
   "outputs": [],
   "source": [
    "#Load the lexicon\n",
    "l1 = pd.read_excel('lexicons-used.xlsx', sheet_name = \"IPCC\", header = None)\n",
    "l2 = pd.read_excel('lexicons-used.xlsx', sheet_name = \"Wikipedia\", header = None)\n",
    "\n",
    "IPCC_W_Lexicon = pd.concat([l1, l2]).reset_index(drop = True)\n",
    "IPCC_W_Lexicon = pd.DataFrame(IPCC_W_Lexicon[0])\n",
    "IPCC_W_Lexicon.columns = [\"Lexicon\"]\n",
    "\n",
    "IPCC_W_Lexicon"
   ]
  },
  {
   "cell_type": "code",
   "execution_count": null,
   "id": "41bd585e",
   "metadata": {},
   "outputs": [],
   "source": [
    "tag5_IPCC_W[\"Text\"] = tag5_IPCC_W[\"Text\"].apply(preprocess_text)"
   ]
  },
  {
   "cell_type": "code",
   "execution_count": null,
   "id": "8696e9d5",
   "metadata": {},
   "outputs": [],
   "source": [
    "threshold_metrics(tag5_IPCC_W, IPCC_W_Lexicon, 1, 8)"
   ]
  },
  {
   "cell_type": "markdown",
   "id": "53737e8c",
   "metadata": {},
   "source": [
    "# 3. Tagging Articles"
   ]
  },
  {
   "cell_type": "markdown",
   "id": "82b72304",
   "metadata": {},
   "source": [
    "## 3.1. Import Articles"
   ]
  },
  {
   "cell_type": "code",
   "execution_count": null,
   "id": "87e77054",
   "metadata": {},
   "outputs": [],
   "source": []
  }
 ],
 "metadata": {
  "kernelspec": {
   "display_name": "Python 3",
   "language": "python",
   "name": "python3"
  },
  "language_info": {
   "codemirror_mode": {
    "name": "ipython",
    "version": 3
   },
   "file_extension": ".py",
   "mimetype": "text/x-python",
   "name": "python",
   "nbconvert_exporter": "python",
   "pygments_lexer": "ipython3",
   "version": "3.8.8"
  }
 },
 "nbformat": 4,
 "nbformat_minor": 5
}
